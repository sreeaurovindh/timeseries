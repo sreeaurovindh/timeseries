{
 "cells": [
  {
   "cell_type": "code",
   "execution_count": null,
   "metadata": {
    "collapsed": true
   },
   "outputs": [],
   "source": [
    "import pandas as pd\n",
    "import seaborn as sns\n",
    "import datetime\n",
    "import numpy as np\n",
    "%matplotlib inline\n",
    "import matplotlib.pylab as plt"
   ]
  },
  {
   "cell_type": "code",
   "execution_count": null,
   "metadata": {
    "collapsed": true
   },
   "outputs": [],
   "source": [
    "data = pd.read_csv(\"11-18-2014-330.csv\",header=None)"
   ]
  },
  {
   "cell_type": "code",
   "execution_count": null,
   "metadata": {},
   "outputs": [],
   "source": [
    "data.columns = ['id','p1_amp','p1_filter','p2_amp','p2_filter','label']"
   ]
  },
  {
   "cell_type": "code",
   "execution_count": null,
   "metadata": {},
   "outputs": [],
   "source": [
    "data['id']=data['id'] - min(data['id']) + 1"
   ]
  },
  {
   "cell_type": "code",
   "execution_count": 12,
   "metadata": {},
   "outputs": [],
   "source": [
    "data['p1_change'] = (data['p1_filter'] == 1.0) & (data['p1_filter'].shift() == 0.0)\n",
    "data['p1_change'] = (data['p1_filter'] == 0.0) & (data['p1_filter'].shift() == 1.0)"
   ]
  },
  {
   "cell_type": "code",
   "execution_count": 20,
   "metadata": {},
   "outputs": [
    {
     "data": {
      "text/html": [
       "<div>\n",
       "<style>\n",
       "    .dataframe thead tr:only-child th {\n",
       "        text-align: right;\n",
       "    }\n",
       "\n",
       "    .dataframe thead th {\n",
       "        text-align: left;\n",
       "    }\n",
       "\n",
       "    .dataframe tbody tr th {\n",
       "        vertical-align: top;\n",
       "    }\n",
       "</style>\n",
       "<table border=\"1\" class=\"dataframe\">\n",
       "  <thead>\n",
       "    <tr style=\"text-align: right;\">\n",
       "      <th></th>\n",
       "      <th>id</th>\n",
       "      <th>p1_amp</th>\n",
       "      <th>p1_filter</th>\n",
       "      <th>p2_amp</th>\n",
       "      <th>p2_filter</th>\n",
       "      <th>label</th>\n",
       "      <th>p1_change</th>\n",
       "    </tr>\n",
       "  </thead>\n",
       "  <tbody>\n",
       "    <tr>\n",
       "      <th>22925</th>\n",
       "      <td>1</td>\n",
       "      <td>0.010721</td>\n",
       "      <td>1.0</td>\n",
       "      <td>-0.001084</td>\n",
       "      <td>0.0</td>\n",
       "      <td>A</td>\n",
       "      <td>False</td>\n",
       "    </tr>\n",
       "    <tr>\n",
       "      <th>22926</th>\n",
       "      <td>1</td>\n",
       "      <td>0.014171</td>\n",
       "      <td>1.0</td>\n",
       "      <td>-0.000050</td>\n",
       "      <td>0.0</td>\n",
       "      <td>A</td>\n",
       "      <td>False</td>\n",
       "    </tr>\n",
       "    <tr>\n",
       "      <th>22927</th>\n",
       "      <td>1</td>\n",
       "      <td>0.002427</td>\n",
       "      <td>0.0</td>\n",
       "      <td>0.001553</td>\n",
       "      <td>0.0</td>\n",
       "      <td>A</td>\n",
       "      <td>True</td>\n",
       "    </tr>\n",
       "    <tr>\n",
       "      <th>22928</th>\n",
       "      <td>1</td>\n",
       "      <td>0.006369</td>\n",
       "      <td>0.0</td>\n",
       "      <td>0.001624</td>\n",
       "      <td>0.0</td>\n",
       "      <td>A</td>\n",
       "      <td>False</td>\n",
       "    </tr>\n",
       "  </tbody>\n",
       "</table>\n",
       "</div>"
      ],
      "text/plain": [
       "       id    p1_amp  p1_filter    p2_amp  p2_filter label  p1_change\n",
       "22925   1  0.010721        1.0 -0.001084        0.0     A      False\n",
       "22926   1  0.014171        1.0 -0.000050        0.0     A      False\n",
       "22927   1  0.002427        0.0  0.001553        0.0     A       True\n",
       "22928   1  0.006369        0.0  0.001624        0.0     A      False"
      ]
     },
     "execution_count": 20,
     "metadata": {},
     "output_type": "execute_result"
    }
   ],
   "source": [
    "data.iloc[22925:22929,:]"
   ]
  },
  {
   "cell_type": "code",
   "execution_count": 23,
   "metadata": {},
   "outputs": [],
   "source": [
    "index_values = data[data['p1_change'] == True].index.values"
   ]
  },
  {
   "cell_type": "code",
   "execution_count": null,
   "metadata": {
    "collapsed": true
   },
   "outputs": [],
   "source": []
  }
 ],
 "metadata": {
  "kernelspec": {
   "display_name": "Python 3",
   "language": "python",
   "name": "python3"
  },
  "language_info": {
   "codemirror_mode": {
    "name": "ipython",
    "version": 3
   },
   "file_extension": ".py",
   "mimetype": "text/x-python",
   "name": "python",
   "nbconvert_exporter": "python",
   "pygments_lexer": "ipython3",
   "version": "3.6.0"
  }
 },
 "nbformat": 4,
 "nbformat_minor": 2
}
