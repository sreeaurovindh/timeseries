{
 "cells": [
  {
   "cell_type": "code",
   "execution_count": 1,
   "metadata": {
    "collapsed": true
   },
   "outputs": [],
   "source": [
    "import pandas as pd\n",
    "import seaborn as sns\n",
    "import datetime\n",
    "import numpy as np\n",
    "%matplotlib inline\n",
    "import matplotlib.pylab as plt"
   ]
  },
  {
   "cell_type": "code",
   "execution_count": 2,
   "metadata": {
    "collapsed": true
   },
   "outputs": [],
   "source": [
    "data = pd.read_csv(\"11-18-2014-330.csv\",header=None)"
   ]
  },
  {
   "cell_type": "code",
   "execution_count": 3,
   "metadata": {
    "collapsed": true
   },
   "outputs": [],
   "source": [
    "data.columns = ['id','time','p1_amp','p1_filter','p2_amp','p2_filter','label']"
   ]
  },
  {
   "cell_type": "code",
   "execution_count": 4,
   "metadata": {
    "collapsed": true
   },
   "outputs": [],
   "source": [
    "data['id']=data['id'] - min(data['id']) + 1"
   ]
  },
  {
   "cell_type": "markdown",
   "metadata": {},
   "source": [
    "### Assign ids to each speech group\n",
    "\n",
    "A speech group is defined as a continuous length of speech spoken by an induvidual.It is less than that of a turn and its broken by singular pauses"
   ]
  },
  {
   "cell_type": "code",
   "execution_count": 5,
   "metadata": {
    "collapsed": true
   },
   "outputs": [],
   "source": [
    "# Detect when there is a change from speech to no speech\n",
    "data['p1_change'] = (data['p1_filter'] == 1.0) & (data['p1_filter'].shift() == 0.0)\n",
    "data['p1_change'] = (data['p1_filter'] == 0.0) & (data['p1_filter'].shift() == 1.0)"
   ]
  },
  {
   "cell_type": "code",
   "execution_count": 6,
   "metadata": {},
   "outputs": [
    {
     "data": {
      "text/html": [
       "<div>\n",
       "<style>\n",
       "    .dataframe thead tr:only-child th {\n",
       "        text-align: right;\n",
       "    }\n",
       "\n",
       "    .dataframe thead th {\n",
       "        text-align: left;\n",
       "    }\n",
       "\n",
       "    .dataframe tbody tr th {\n",
       "        vertical-align: top;\n",
       "    }\n",
       "</style>\n",
       "<table border=\"1\" class=\"dataframe\">\n",
       "  <thead>\n",
       "    <tr style=\"text-align: right;\">\n",
       "      <th></th>\n",
       "      <th>id</th>\n",
       "      <th>time</th>\n",
       "      <th>p1_amp</th>\n",
       "      <th>p1_filter</th>\n",
       "      <th>p2_amp</th>\n",
       "      <th>p2_filter</th>\n",
       "      <th>label</th>\n",
       "      <th>p1_change</th>\n",
       "    </tr>\n",
       "  </thead>\n",
       "  <tbody>\n",
       "    <tr>\n",
       "      <th>22925</th>\n",
       "      <td>1</td>\n",
       "      <td>2.865625</td>\n",
       "      <td>0.010721</td>\n",
       "      <td>1.0</td>\n",
       "      <td>-0.001084</td>\n",
       "      <td>0.0</td>\n",
       "      <td>A</td>\n",
       "      <td>False</td>\n",
       "    </tr>\n",
       "    <tr>\n",
       "      <th>22926</th>\n",
       "      <td>1</td>\n",
       "      <td>2.865750</td>\n",
       "      <td>0.014171</td>\n",
       "      <td>1.0</td>\n",
       "      <td>-0.000050</td>\n",
       "      <td>0.0</td>\n",
       "      <td>A</td>\n",
       "      <td>False</td>\n",
       "    </tr>\n",
       "    <tr>\n",
       "      <th>22927</th>\n",
       "      <td>1</td>\n",
       "      <td>2.865875</td>\n",
       "      <td>0.002427</td>\n",
       "      <td>0.0</td>\n",
       "      <td>0.001553</td>\n",
       "      <td>0.0</td>\n",
       "      <td>A</td>\n",
       "      <td>True</td>\n",
       "    </tr>\n",
       "    <tr>\n",
       "      <th>22928</th>\n",
       "      <td>1</td>\n",
       "      <td>2.866000</td>\n",
       "      <td>0.006369</td>\n",
       "      <td>0.0</td>\n",
       "      <td>0.001624</td>\n",
       "      <td>0.0</td>\n",
       "      <td>A</td>\n",
       "      <td>False</td>\n",
       "    </tr>\n",
       "  </tbody>\n",
       "</table>\n",
       "</div>"
      ],
      "text/plain": [
       "       id      time    p1_amp  p1_filter    p2_amp  p2_filter label  p1_change\n",
       "22925   1  2.865625  0.010721        1.0 -0.001084        0.0     A      False\n",
       "22926   1  2.865750  0.014171        1.0 -0.000050        0.0     A      False\n",
       "22927   1  2.865875  0.002427        0.0  0.001553        0.0     A       True\n",
       "22928   1  2.866000  0.006369        0.0  0.001624        0.0     A      False"
      ]
     },
     "execution_count": 6,
     "metadata": {},
     "output_type": "execute_result"
    }
   ],
   "source": [
    "# Explore a place where the shift occcours\n",
    "data.iloc[22925:22929,:].head()"
   ]
  },
  {
   "cell_type": "code",
   "execution_count": 7,
   "metadata": {
    "collapsed": true
   },
   "outputs": [],
   "source": [
    "# Get Index values of P1 so that they could be given a single Id number\n",
    "p1_index_values = data[data['p1_change'] == True].index.values\n",
    "p1_index_values = np.insert(p1_index_values,0,0)"
   ]
  },
  {
   "cell_type": "code",
   "execution_count": 8,
   "metadata": {
    "collapsed": true
   },
   "outputs": [],
   "source": [
    "#  Set all values to -1.\n",
    "data['p1_speech_grps'] = -1"
   ]
  },
  {
   "cell_type": "code",
   "execution_count": 10,
   "metadata": {
    "collapsed": true
   },
   "outputs": [],
   "source": [
    "# Assign ids\n",
    "for i in range(len(p1_index_values)-1):\n",
    "    data.at[p1_index_values[i]:p1_index_values[i+1],\"p1_speech_grps\"] = i+1\n",
    "    "
   ]
  },
  {
   "cell_type": "code",
   "execution_count": 11,
   "metadata": {},
   "outputs": [
    {
     "data": {
      "text/html": [
       "<div>\n",
       "<style>\n",
       "    .dataframe thead tr:only-child th {\n",
       "        text-align: right;\n",
       "    }\n",
       "\n",
       "    .dataframe thead th {\n",
       "        text-align: left;\n",
       "    }\n",
       "\n",
       "    .dataframe tbody tr th {\n",
       "        vertical-align: top;\n",
       "    }\n",
       "</style>\n",
       "<table border=\"1\" class=\"dataframe\">\n",
       "  <thead>\n",
       "    <tr style=\"text-align: right;\">\n",
       "      <th></th>\n",
       "      <th>id</th>\n",
       "      <th>time</th>\n",
       "      <th>p1_amp</th>\n",
       "      <th>p1_filter</th>\n",
       "      <th>p2_amp</th>\n",
       "      <th>p2_filter</th>\n",
       "      <th>label</th>\n",
       "      <th>p1_change</th>\n",
       "      <th>p1_speech_grps</th>\n",
       "    </tr>\n",
       "  </thead>\n",
       "  <tbody>\n",
       "    <tr>\n",
       "      <th>103842</th>\n",
       "      <td>1</td>\n",
       "      <td>12.980250</td>\n",
       "      <td>-0.008520</td>\n",
       "      <td>0.0</td>\n",
       "      <td>0.002088</td>\n",
       "      <td>0.0</td>\n",
       "      <td>A</td>\n",
       "      <td>True</td>\n",
       "      <td>6</td>\n",
       "    </tr>\n",
       "    <tr>\n",
       "      <th>103843</th>\n",
       "      <td>1</td>\n",
       "      <td>12.980375</td>\n",
       "      <td>-0.013543</td>\n",
       "      <td>0.0</td>\n",
       "      <td>0.005345</td>\n",
       "      <td>0.0</td>\n",
       "      <td>A</td>\n",
       "      <td>False</td>\n",
       "      <td>6</td>\n",
       "    </tr>\n",
       "    <tr>\n",
       "      <th>103844</th>\n",
       "      <td>1</td>\n",
       "      <td>12.980500</td>\n",
       "      <td>-0.014190</td>\n",
       "      <td>0.0</td>\n",
       "      <td>-0.002011</td>\n",
       "      <td>0.0</td>\n",
       "      <td>A</td>\n",
       "      <td>False</td>\n",
       "      <td>6</td>\n",
       "    </tr>\n",
       "    <tr>\n",
       "      <th>103845</th>\n",
       "      <td>1</td>\n",
       "      <td>12.980625</td>\n",
       "      <td>-0.011404</td>\n",
       "      <td>0.0</td>\n",
       "      <td>-0.005630</td>\n",
       "      <td>0.0</td>\n",
       "      <td>A</td>\n",
       "      <td>False</td>\n",
       "      <td>6</td>\n",
       "    </tr>\n",
       "    <tr>\n",
       "      <th>103846</th>\n",
       "      <td>1</td>\n",
       "      <td>12.980750</td>\n",
       "      <td>-0.002389</td>\n",
       "      <td>0.0</td>\n",
       "      <td>-0.002994</td>\n",
       "      <td>0.0</td>\n",
       "      <td>A</td>\n",
       "      <td>False</td>\n",
       "      <td>6</td>\n",
       "    </tr>\n",
       "  </tbody>\n",
       "</table>\n",
       "</div>"
      ],
      "text/plain": [
       "        id       time    p1_amp  p1_filter    p2_amp  p2_filter label  \\\n",
       "103842   1  12.980250 -0.008520        0.0  0.002088        0.0     A   \n",
       "103843   1  12.980375 -0.013543        0.0  0.005345        0.0     A   \n",
       "103844   1  12.980500 -0.014190        0.0 -0.002011        0.0     A   \n",
       "103845   1  12.980625 -0.011404        0.0 -0.005630        0.0     A   \n",
       "103846   1  12.980750 -0.002389        0.0 -0.002994        0.0     A   \n",
       "\n",
       "        p1_change  p1_speech_grps  \n",
       "103842       True               6  \n",
       "103843      False               6  \n",
       "103844      False               6  \n",
       "103845      False               6  \n",
       "103846      False               6  "
      ]
     },
     "execution_count": 11,
     "metadata": {},
     "output_type": "execute_result"
    }
   ],
   "source": [
    "data[data['p1_speech_grps']==6].head()"
   ]
  },
  {
   "cell_type": "markdown",
   "metadata": {},
   "source": [
    "### Outlier Detection \n",
    "\n",
    "The outliers were detected using Median average Deviation. This was just to perform a sanity check on the dataset"
   ]
  },
  {
   "cell_type": "code",
   "execution_count": 14,
   "metadata": {
    "collapsed": true
   },
   "outputs": [],
   "source": [
    "output_data = data.groupby('p1_speech_grps',as_index = False).agg({\n",
    "    'p1_amp':'var',\n",
    "    'time' : lambda x: max(x) - min(x)\n",
    "})"
   ]
  },
  {
   "cell_type": "code",
   "execution_count": 43,
   "metadata": {
    "collapsed": true
   },
   "outputs": [],
   "source": [
    "from astropy.stats import median_absolute_deviation\n",
    "import statistics\n",
    "mad = median_absolute_deviation(output_data.time)\n",
    "deviations = abs(output_data.time - statistics.median(output_data.time))/mad\n"
   ]
  },
  {
   "cell_type": "code",
   "execution_count": 49,
   "metadata": {
    "collapsed": true
   },
   "outputs": [],
   "source": [
    "outliers = deviations[deviations > 10].index"
   ]
  },
  {
   "cell_type": "code",
   "execution_count": 50,
   "metadata": {},
   "outputs": [
    {
     "data": {
      "text/plain": [
       "Int64Index([  6,  34,  47,  80, 116, 118, 126, 135, 156, 166, 186, 193, 217,\n",
       "            236, 253, 270, 277, 279, 288, 295, 300, 374, 378, 382, 393, 398,\n",
       "            410, 432],\n",
       "           dtype='int64')"
      ]
     },
     "execution_count": 50,
     "metadata": {},
     "output_type": "execute_result"
    }
   ],
   "source": [
    "outliers"
   ]
  },
  {
   "cell_type": "code",
   "execution_count": 94,
   "metadata": {
    "collapsed": true
   },
   "outputs": [],
   "source": [
    "# Calculate the total duration of every group\n",
    "p1_speech_groups = data.loc[data['p1_speech_grps'].isin(outliers)].groupby(['p1_speech_grps','id']).agg({\n",
    "    'time': [min,max]\n",
    "}).head(7)"
   ]
  },
  {
   "cell_type": "markdown",
   "metadata": {},
   "source": [
    "### Noise and its variations across length\n",
    "\n",
    "We wanted to explore if the segments that have less variance tend to be shorter. From the exploratory analysis, it was not the case"
   ]
  },
  {
   "cell_type": "code",
   "execution_count": 71,
   "metadata": {},
   "outputs": [
    {
     "name": "stdout",
     "output_type": "stream",
     "text": [
      "  agg_filter: unknown\n",
      "  alpha: float (0.0 transparent through 1.0 opaque) \n",
      "  animated: [True | False] \n",
      "  axes: an :class:`~matplotlib.axes.Axes` instance \n",
      "  backgroundcolor: any matplotlib color \n",
      "  bbox: FancyBboxPatch prop dict \n",
      "  clip_box: a :class:`matplotlib.transforms.Bbox` instance \n",
      "  clip_on: [True | False] \n",
      "  clip_path: [ (:class:`~matplotlib.path.Path`, :class:`~matplotlib.transforms.Transform`) | :class:`~matplotlib.patches.Patch` | None ] \n",
      "  color: any matplotlib color \n",
      "  contains: a callable function \n",
      "  family or fontfamily or fontname or name: [FONTNAME | 'serif' | 'sans-serif' | 'cursive' | 'fantasy' | 'monospace' ] \n",
      "  figure: a :class:`matplotlib.figure.Figure` instance \n",
      "  fontproperties or font_properties: a :class:`matplotlib.font_manager.FontProperties` instance \n",
      "  gid: an id string \n",
      "  horizontalalignment or ha: [ 'center' | 'right' | 'left' ] \n",
      "  label: string or anything printable with '%s' conversion. \n",
      "  linespacing: float (multiple of font size) \n",
      "  multialignment: ['left' | 'right' | 'center' ] \n",
      "  path_effects: unknown\n",
      "  picker: [None|float|boolean|callable] \n",
      "  position: (x,y) \n",
      "  rasterized: [True | False | None] \n",
      "  rotation: [ angle in degrees | 'vertical' | 'horizontal' ] \n",
      "  rotation_mode: unknown\n",
      "  size or fontsize: [size in points | 'xx-small' | 'x-small' | 'small' | 'medium' | 'large' | 'x-large' | 'xx-large' ] \n",
      "  sketch_params: unknown\n",
      "  snap: unknown\n",
      "  stretch or fontstretch: [a numeric value in range 0-1000 | 'ultra-condensed' | 'extra-condensed' | 'condensed' | 'semi-condensed' | 'normal' | 'semi-expanded' | 'expanded' | 'extra-expanded' | 'ultra-expanded' ] \n",
      "  style or fontstyle: [ 'normal' | 'italic' | 'oblique'] \n",
      "  text: string or anything printable with '%s' conversion. \n",
      "  transform: :class:`~matplotlib.transforms.Transform` instance \n",
      "  url: a url string \n",
      "  usetex: unknown\n",
      "  variant or fontvariant: [ 'normal' | 'small-caps' ] \n",
      "  verticalalignment or ma or va: [ 'center' | 'top' | 'bottom' | 'baseline' ] \n",
      "  visible: [True | False] \n",
      "  weight or fontweight: [a numeric value in range 0-1000 | 'ultralight' | 'light' | 'normal' | 'regular' | 'book' | 'medium' | 'roman' | 'semibold' | 'demibold' | 'demi' | 'bold' | 'heavy' | 'extra bold' | 'black' ] \n",
      "  wrap: unknown\n",
      "  x: float \n",
      "  y: float \n",
      "  zorder: any number \n",
      "  agg_filter: unknown\n",
      "  alpha: float (0.0 transparent through 1.0 opaque) \n",
      "  animated: [True | False] \n",
      "  axes: an :class:`~matplotlib.axes.Axes` instance \n",
      "  backgroundcolor: any matplotlib color \n",
      "  bbox: FancyBboxPatch prop dict \n",
      "  clip_box: a :class:`matplotlib.transforms.Bbox` instance \n",
      "  clip_on: [True | False] \n",
      "  clip_path: [ (:class:`~matplotlib.path.Path`, :class:`~matplotlib.transforms.Transform`) | :class:`~matplotlib.patches.Patch` | None ] \n",
      "  color: any matplotlib color \n",
      "  contains: a callable function \n",
      "  family or fontfamily or fontname or name: [FONTNAME | 'serif' | 'sans-serif' | 'cursive' | 'fantasy' | 'monospace' ] \n",
      "  figure: a :class:`matplotlib.figure.Figure` instance \n",
      "  fontproperties or font_properties: a :class:`matplotlib.font_manager.FontProperties` instance \n",
      "  gid: an id string \n",
      "  horizontalalignment or ha: [ 'center' | 'right' | 'left' ] \n",
      "  label: string or anything printable with '%s' conversion. \n",
      "  linespacing: float (multiple of font size) \n",
      "  multialignment: ['left' | 'right' | 'center' ] \n",
      "  path_effects: unknown\n",
      "  picker: [None|float|boolean|callable] \n",
      "  position: (x,y) \n",
      "  rasterized: [True | False | None] \n",
      "  rotation: [ angle in degrees | 'vertical' | 'horizontal' ] \n",
      "  rotation_mode: unknown\n",
      "  size or fontsize: [size in points | 'xx-small' | 'x-small' | 'small' | 'medium' | 'large' | 'x-large' | 'xx-large' ] \n",
      "  sketch_params: unknown\n",
      "  snap: unknown\n",
      "  stretch or fontstretch: [a numeric value in range 0-1000 | 'ultra-condensed' | 'extra-condensed' | 'condensed' | 'semi-condensed' | 'normal' | 'semi-expanded' | 'expanded' | 'extra-expanded' | 'ultra-expanded' ] \n",
      "  style or fontstyle: [ 'normal' | 'italic' | 'oblique'] \n",
      "  text: string or anything printable with '%s' conversion. \n",
      "  transform: :class:`~matplotlib.transforms.Transform` instance \n",
      "  url: a url string \n",
      "  usetex: unknown\n",
      "  variant or fontvariant: [ 'normal' | 'small-caps' ] \n",
      "  verticalalignment or ma or va: [ 'center' | 'top' | 'bottom' | 'baseline' ] \n",
      "  visible: [True | False] \n",
      "  weight or fontweight: [a numeric value in range 0-1000 | 'ultralight' | 'light' | 'normal' | 'regular' | 'book' | 'medium' | 'roman' | 'semibold' | 'demibold' | 'demi' | 'bold' | 'heavy' | 'extra bold' | 'black' ] \n",
      "  wrap: unknown\n",
      "  x: float \n",
      "  y: float \n",
      "  zorder: any number \n"
     ]
    },
    {
     "data": {
      "image/png": "[encoded data removed]",
      "text/plain": [
       "<matplotlib.figure.Figure at 0x7fc232bcd0b8>"
      ]
     },
     "metadata": {},
     "output_type": "display_data"
    }
   ],
   "source": [
    "ax1 = plt.subplot(211)\n",
    "plt.plot(output_data[id_23_values[0]:id_23_values[len(id_23_values)-1]][['p1_speech_grps']],output_data[id_23_values[0]:id_23_values[len(id_23_values)-1]][['p1_amp']])\n",
    "plt.setp(ax1.get_xticklabels())\n",
    "\n",
    "ax2 = plt.subplot(212, sharex=ax1)\n",
    "plt.plot(output_data[id_23_values[0]:id_23_values[len(id_23_values)-1]][['p1_speech_grps']],output_data[id_23_values[0]:id_23_values[len(id_23_values)-1]][['time']])\n",
    "\n",
    "# make these tick labels invisible\n",
    "plt.setp(ax2.get_xticklabels())\n",
    "\n",
    "plt.show()"
   ]
  },
  {
   "cell_type": "markdown",
   "metadata": {},
   "source": [
    "## Group Variance\n",
    "\n",
    "It is a writing activity, students don't talk most of the time.  Hence a 15% Conservative match is taken"
   ]
  },
  {
   "cell_type": "code",
   "execution_count": 114,
   "metadata": {},
   "outputs": [
    {
     "data": {
      "text/html": [
       "<div>\n",
       "<style>\n",
       "    .dataframe thead tr:only-child th {\n",
       "        text-align: right;\n",
       "    }\n",
       "\n",
       "    .dataframe thead th {\n",
       "        text-align: left;\n",
       "    }\n",
       "\n",
       "    .dataframe tbody tr th {\n",
       "        vertical-align: top;\n",
       "    }\n",
       "</style>\n",
       "<table border=\"1\" class=\"dataframe\">\n",
       "  <thead>\n",
       "    <tr style=\"text-align: right;\">\n",
       "      <th></th>\n",
       "      <th>p1_speech_grps</th>\n",
       "      <th>p1_amp</th>\n",
       "    </tr>\n",
       "  </thead>\n",
       "  <tbody>\n",
       "    <tr>\n",
       "      <th>0</th>\n",
       "      <td>-1</td>\n",
       "      <td>0.002324</td>\n",
       "    </tr>\n",
       "    <tr>\n",
       "      <th>1</th>\n",
       "      <td>1</td>\n",
       "      <td>0.004513</td>\n",
       "    </tr>\n",
       "    <tr>\n",
       "      <th>2</th>\n",
       "      <td>2</td>\n",
       "      <td>0.006304</td>\n",
       "    </tr>\n",
       "    <tr>\n",
       "      <th>3</th>\n",
       "      <td>3</td>\n",
       "      <td>0.008149</td>\n",
       "    </tr>\n",
       "    <tr>\n",
       "      <th>4</th>\n",
       "      <td>4</td>\n",
       "      <td>0.006573</td>\n",
       "    </tr>\n",
       "  </tbody>\n",
       "</table>\n",
       "</div>"
      ],
      "text/plain": [
       "   p1_speech_grps    p1_amp\n",
       "0              -1  0.002324\n",
       "1               1  0.004513\n",
       "2               2  0.006304\n",
       "3               3  0.008149\n",
       "4               4  0.006573"
      ]
     },
     "execution_count": 114,
     "metadata": {},
     "output_type": "execute_result"
    }
   ],
   "source": [
    "group_var = data.groupby('p1_speech_grps',as_index = False)['p1_amp'].agg({\n",
    "    'p1_amp': lambda x: x.quantile(0.75) - x.quantile(0.25)\n",
    "})\n",
    "group_var.head()"
   ]
  },
  {
   "cell_type": "code",
   "execution_count": 119,
   "metadata": {},
   "outputs": [
    {
     "data": {
      "text/plain": [
       "0.0013998655747855084"
      ]
     },
     "execution_count": 119,
     "metadata": {},
     "output_type": "execute_result"
    }
   ],
   "source": [
    "np.percentile(group_var.p1_amp,20)"
   ]
  },
  {
   "cell_type": "markdown",
   "metadata": {},
   "source": [
    "## Sample with background noise\n",
    "The id=23 is a sample that has lots of variations with background noise. These variations "
   ]
  },
  {
   "cell_type": "code",
   "execution_count": 84,
   "metadata": {},
   "outputs": [
    {
     "name": "stdout",
     "output_type": "stream",
     "text": [
      "Id Values of 23:  398 432\n"
     ]
    }
   ],
   "source": [
    "print(\"Id Values of 23: \",id_23_values[0],id_23_values[len(id_23_values)-1])"
   ]
  },
  {
   "cell_type": "code",
   "execution_count": 120,
   "metadata": {},
   "outputs": [
    {
     "data": {
      "text/html": [
       "<div>\n",
       "<style>\n",
       "    .dataframe thead tr:only-child th {\n",
       "        text-align: right;\n",
       "    }\n",
       "\n",
       "    .dataframe thead th {\n",
       "        text-align: left;\n",
       "    }\n",
       "\n",
       "    .dataframe tbody tr th {\n",
       "        vertical-align: top;\n",
       "    }\n",
       "</style>\n",
       "<table border=\"1\" class=\"dataframe\">\n",
       "  <thead>\n",
       "    <tr style=\"text-align: right;\">\n",
       "      <th></th>\n",
       "      <th>id</th>\n",
       "      <th>time</th>\n",
       "      <th>p1_amp</th>\n",
       "      <th>p1_filter</th>\n",
       "      <th>p2_amp</th>\n",
       "      <th>p2_filter</th>\n",
       "      <th>label</th>\n",
       "      <th>p1_change</th>\n",
       "      <th>p1_speech_grps</th>\n",
       "    </tr>\n",
       "  </thead>\n",
       "  <tbody>\n",
       "    <tr>\n",
       "      <th>0</th>\n",
       "      <td>1</td>\n",
       "      <td>0.000000</td>\n",
       "      <td>-0.000477</td>\n",
       "      <td>1.0</td>\n",
       "      <td>0.0</td>\n",
       "      <td>1.0</td>\n",
       "      <td>A</td>\n",
       "      <td>False</td>\n",
       "      <td>1</td>\n",
       "    </tr>\n",
       "    <tr>\n",
       "      <th>1</th>\n",
       "      <td>1</td>\n",
       "      <td>0.000125</td>\n",
       "      <td>-0.000813</td>\n",
       "      <td>1.0</td>\n",
       "      <td>0.0</td>\n",
       "      <td>1.0</td>\n",
       "      <td>A</td>\n",
       "      <td>False</td>\n",
       "      <td>1</td>\n",
       "    </tr>\n",
       "    <tr>\n",
       "      <th>2</th>\n",
       "      <td>1</td>\n",
       "      <td>0.000250</td>\n",
       "      <td>0.000190</td>\n",
       "      <td>1.0</td>\n",
       "      <td>0.0</td>\n",
       "      <td>1.0</td>\n",
       "      <td>A</td>\n",
       "      <td>False</td>\n",
       "      <td>1</td>\n",
       "    </tr>\n",
       "    <tr>\n",
       "      <th>3</th>\n",
       "      <td>1</td>\n",
       "      <td>0.000375</td>\n",
       "      <td>-0.000927</td>\n",
       "      <td>1.0</td>\n",
       "      <td>0.0</td>\n",
       "      <td>1.0</td>\n",
       "      <td>A</td>\n",
       "      <td>False</td>\n",
       "      <td>1</td>\n",
       "    </tr>\n",
       "    <tr>\n",
       "      <th>4</th>\n",
       "      <td>1</td>\n",
       "      <td>0.000500</td>\n",
       "      <td>-0.000449</td>\n",
       "      <td>1.0</td>\n",
       "      <td>0.0</td>\n",
       "      <td>1.0</td>\n",
       "      <td>A</td>\n",
       "      <td>False</td>\n",
       "      <td>1</td>\n",
       "    </tr>\n",
       "  </tbody>\n",
       "</table>\n",
       "</div>"
      ],
      "text/plain": [
       "   id      time    p1_amp  p1_filter  p2_amp  p2_filter label  p1_change  \\\n",
       "0   1  0.000000 -0.000477        1.0     0.0        1.0     A      False   \n",
       "1   1  0.000125 -0.000813        1.0     0.0        1.0     A      False   \n",
       "2   1  0.000250  0.000190        1.0     0.0        1.0     A      False   \n",
       "3   1  0.000375 -0.000927        1.0     0.0        1.0     A      False   \n",
       "4   1  0.000500 -0.000449        1.0     0.0        1.0     A      False   \n",
       "\n",
       "   p1_speech_grps  \n",
       "0               1  \n",
       "1               1  \n",
       "2               1  \n",
       "3               1  \n",
       "4               1  "
      ]
     },
     "execution_count": 120,
     "metadata": {},
     "output_type": "execute_result"
    }
   ],
   "source": [
    "data.head()"
   ]
  },
  {
   "cell_type": "code",
   "execution_count": 116,
   "metadata": {},
   "outputs": [
    {
     "data": {
      "text/plain": [
       "False    20\n",
       "True     15\n",
       "Name: p1_amp, dtype: int64"
      ]
     },
     "execution_count": 116,
     "metadata": {},
     "output_type": "execute_result"
    }
   ],
   "source": [
    "(group_var.loc[398:432,\"p1_amp\"] < np.percentile(group_var.p1_amp,20)).value_counts()"
   ]
  },
  {
   "cell_type": "markdown",
   "metadata": {
    "collapsed": true
   },
   "source": [
    "Group variance was effective in removing false postives. But I believe this metric may not be very suitable for our work since I could justify the cutoff at this range."
   ]
  },
  {
   "cell_type": "markdown",
   "metadata": {},
   "source": [
    "## Group Range \n",
    "\n",
    "An evaluation of group range is made for every group.\n",
    "\n"
   ]
  },
  {
   "cell_type": "markdown",
   "metadata": {},
   "source": [
    "### Step 1: Calculate Median absolute deviation for every value to check for Outliers and Remove them"
   ]
  },
  {
   "cell_type": "code",
   "execution_count": 13,
   "metadata": {},
   "outputs": [
    {
     "data": {
      "text/html": [
       "<div>\n",
       "<style>\n",
       "    .dataframe thead tr:only-child th {\n",
       "        text-align: right;\n",
       "    }\n",
       "\n",
       "    .dataframe thead th {\n",
       "        text-align: left;\n",
       "    }\n",
       "\n",
       "    .dataframe tbody tr th {\n",
       "        vertical-align: top;\n",
       "    }\n",
       "</style>\n",
       "<table border=\"1\" class=\"dataframe\">\n",
       "  <thead>\n",
       "    <tr style=\"text-align: right;\">\n",
       "      <th></th>\n",
       "      <th>p1_speech_grps</th>\n",
       "      <th>p1_amp_grp_mad</th>\n",
       "      <th>p1_grp_med</th>\n",
       "    </tr>\n",
       "  </thead>\n",
       "  <tbody>\n",
       "    <tr>\n",
       "      <th>0</th>\n",
       "      <td>-1</td>\n",
       "      <td>0.001164</td>\n",
       "      <td>-0.000256</td>\n",
       "    </tr>\n",
       "    <tr>\n",
       "      <th>1</th>\n",
       "      <td>1</td>\n",
       "      <td>0.002250</td>\n",
       "      <td>-0.000320</td>\n",
       "    </tr>\n",
       "    <tr>\n",
       "      <th>2</th>\n",
       "      <td>2</td>\n",
       "      <td>0.003146</td>\n",
       "      <td>-0.000387</td>\n",
       "    </tr>\n",
       "    <tr>\n",
       "      <th>3</th>\n",
       "      <td>3</td>\n",
       "      <td>0.004070</td>\n",
       "      <td>-0.000378</td>\n",
       "    </tr>\n",
       "    <tr>\n",
       "      <th>4</th>\n",
       "      <td>4</td>\n",
       "      <td>0.003279</td>\n",
       "      <td>-0.000294</td>\n",
       "    </tr>\n",
       "  </tbody>\n",
       "</table>\n",
       "</div>"
      ],
      "text/plain": [
       "   p1_speech_grps  p1_amp_grp_mad  p1_grp_med\n",
       "0              -1        0.001164   -0.000256\n",
       "1               1        0.002250   -0.000320\n",
       "2               2        0.003146   -0.000387\n",
       "3               3        0.004070   -0.000378\n",
       "4               4        0.003279   -0.000294"
      ]
     },
     "execution_count": 13,
     "metadata": {},
     "output_type": "execute_result"
    }
   ],
   "source": [
    "from astropy.stats import median_absolute_deviation\n",
    "import statistics\n",
    "#abs(x-  statistics.median(x)) / median_absolute_deviation(x)\n",
    "\n",
    "group_mad = data.groupby('p1_speech_grps',as_index = False)['p1_amp'].agg({\n",
    "    'p1_amp_grp_mad': lambda x: median_absolute_deviation(x), \n",
    "    'p1_grp_med': lambda x: statistics.median(x)\n",
    "})\n",
    "\n",
    "group_mad.head()"
   ]
  },
  {
   "cell_type": "code",
   "execution_count": 14,
   "metadata": {},
   "outputs": [
    {
     "data": {
      "text/html": [
       "<div>\n",
       "<style>\n",
       "    .dataframe thead tr:only-child th {\n",
       "        text-align: right;\n",
       "    }\n",
       "\n",
       "    .dataframe thead th {\n",
       "        text-align: left;\n",
       "    }\n",
       "\n",
       "    .dataframe tbody tr th {\n",
       "        vertical-align: top;\n",
       "    }\n",
       "</style>\n",
       "<table border=\"1\" class=\"dataframe\">\n",
       "  <thead>\n",
       "    <tr style=\"text-align: right;\">\n",
       "      <th></th>\n",
       "      <th>id</th>\n",
       "      <th>time</th>\n",
       "      <th>p1_amp</th>\n",
       "      <th>p1_filter</th>\n",
       "      <th>p2_amp</th>\n",
       "      <th>p2_filter</th>\n",
       "      <th>label</th>\n",
       "      <th>p1_change</th>\n",
       "      <th>p1_speech_grps</th>\n",
       "    </tr>\n",
       "  </thead>\n",
       "  <tbody>\n",
       "    <tr>\n",
       "      <th>0</th>\n",
       "      <td>1</td>\n",
       "      <td>0.000000</td>\n",
       "      <td>-0.000477</td>\n",
       "      <td>1.0</td>\n",
       "      <td>0.0</td>\n",
       "      <td>1.0</td>\n",
       "      <td>A</td>\n",
       "      <td>False</td>\n",
       "      <td>1</td>\n",
       "    </tr>\n",
       "    <tr>\n",
       "      <th>1</th>\n",
       "      <td>1</td>\n",
       "      <td>0.000125</td>\n",
       "      <td>-0.000813</td>\n",
       "      <td>1.0</td>\n",
       "      <td>0.0</td>\n",
       "      <td>1.0</td>\n",
       "      <td>A</td>\n",
       "      <td>False</td>\n",
       "      <td>1</td>\n",
       "    </tr>\n",
       "    <tr>\n",
       "      <th>2</th>\n",
       "      <td>1</td>\n",
       "      <td>0.000250</td>\n",
       "      <td>0.000190</td>\n",
       "      <td>1.0</td>\n",
       "      <td>0.0</td>\n",
       "      <td>1.0</td>\n",
       "      <td>A</td>\n",
       "      <td>False</td>\n",
       "      <td>1</td>\n",
       "    </tr>\n",
       "    <tr>\n",
       "      <th>3</th>\n",
       "      <td>1</td>\n",
       "      <td>0.000375</td>\n",
       "      <td>-0.000927</td>\n",
       "      <td>1.0</td>\n",
       "      <td>0.0</td>\n",
       "      <td>1.0</td>\n",
       "      <td>A</td>\n",
       "      <td>False</td>\n",
       "      <td>1</td>\n",
       "    </tr>\n",
       "    <tr>\n",
       "      <th>4</th>\n",
       "      <td>1</td>\n",
       "      <td>0.000500</td>\n",
       "      <td>-0.000449</td>\n",
       "      <td>1.0</td>\n",
       "      <td>0.0</td>\n",
       "      <td>1.0</td>\n",
       "      <td>A</td>\n",
       "      <td>False</td>\n",
       "      <td>1</td>\n",
       "    </tr>\n",
       "  </tbody>\n",
       "</table>\n",
       "</div>"
      ],
      "text/plain": [
       "   id      time    p1_amp  p1_filter  p2_amp  p2_filter label  p1_change  \\\n",
       "0   1  0.000000 -0.000477        1.0     0.0        1.0     A      False   \n",
       "1   1  0.000125 -0.000813        1.0     0.0        1.0     A      False   \n",
       "2   1  0.000250  0.000190        1.0     0.0        1.0     A      False   \n",
       "3   1  0.000375 -0.000927        1.0     0.0        1.0     A      False   \n",
       "4   1  0.000500 -0.000449        1.0     0.0        1.0     A      False   \n",
       "\n",
       "   p1_speech_grps  \n",
       "0               1  \n",
       "1               1  \n",
       "2               1  \n",
       "3               1  \n",
       "4               1  "
      ]
     },
     "execution_count": 14,
     "metadata": {},
     "output_type": "execute_result"
    }
   ],
   "source": [
    "data.head()"
   ]
  },
  {
   "cell_type": "code",
   "execution_count": 15,
   "metadata": {
    "collapsed": true
   },
   "outputs": [],
   "source": [
    "data_mad = pd.merge(data,group_mad,on=\"p1_speech_grps\",how=\"inner\")"
   ]
  },
  {
   "cell_type": "code",
   "execution_count": 16,
   "metadata": {},
   "outputs": [
    {
     "data": {
      "text/html": [
       "<div>\n",
       "<style>\n",
       "    .dataframe thead tr:only-child th {\n",
       "        text-align: right;\n",
       "    }\n",
       "\n",
       "    .dataframe thead th {\n",
       "        text-align: left;\n",
       "    }\n",
       "\n",
       "    .dataframe tbody tr th {\n",
       "        vertical-align: top;\n",
       "    }\n",
       "</style>\n",
       "<table border=\"1\" class=\"dataframe\">\n",
       "  <thead>\n",
       "    <tr style=\"text-align: right;\">\n",
       "      <th></th>\n",
       "      <th>id</th>\n",
       "      <th>time</th>\n",
       "      <th>p1_amp</th>\n",
       "      <th>p1_filter</th>\n",
       "      <th>p2_amp</th>\n",
       "      <th>p2_filter</th>\n",
       "      <th>label</th>\n",
       "      <th>p1_change</th>\n",
       "      <th>p1_speech_grps</th>\n",
       "      <th>p1_amp_grp_mad</th>\n",
       "      <th>p1_grp_med</th>\n",
       "    </tr>\n",
       "  </thead>\n",
       "  <tbody>\n",
       "    <tr>\n",
       "      <th>0</th>\n",
       "      <td>1</td>\n",
       "      <td>0.000000</td>\n",
       "      <td>-0.000477</td>\n",
       "      <td>1.0</td>\n",
       "      <td>0.0</td>\n",
       "      <td>1.0</td>\n",
       "      <td>A</td>\n",
       "      <td>False</td>\n",
       "      <td>1</td>\n",
       "      <td>0.00225</td>\n",
       "      <td>-0.00032</td>\n",
       "    </tr>\n",
       "    <tr>\n",
       "      <th>1</th>\n",
       "      <td>1</td>\n",
       "      <td>0.000125</td>\n",
       "      <td>-0.000813</td>\n",
       "      <td>1.0</td>\n",
       "      <td>0.0</td>\n",
       "      <td>1.0</td>\n",
       "      <td>A</td>\n",
       "      <td>False</td>\n",
       "      <td>1</td>\n",
       "      <td>0.00225</td>\n",
       "      <td>-0.00032</td>\n",
       "    </tr>\n",
       "    <tr>\n",
       "      <th>2</th>\n",
       "      <td>1</td>\n",
       "      <td>0.000250</td>\n",
       "      <td>0.000190</td>\n",
       "      <td>1.0</td>\n",
       "      <td>0.0</td>\n",
       "      <td>1.0</td>\n",
       "      <td>A</td>\n",
       "      <td>False</td>\n",
       "      <td>1</td>\n",
       "      <td>0.00225</td>\n",
       "      <td>-0.00032</td>\n",
       "    </tr>\n",
       "    <tr>\n",
       "      <th>3</th>\n",
       "      <td>1</td>\n",
       "      <td>0.000375</td>\n",
       "      <td>-0.000927</td>\n",
       "      <td>1.0</td>\n",
       "      <td>0.0</td>\n",
       "      <td>1.0</td>\n",
       "      <td>A</td>\n",
       "      <td>False</td>\n",
       "      <td>1</td>\n",
       "      <td>0.00225</td>\n",
       "      <td>-0.00032</td>\n",
       "    </tr>\n",
       "    <tr>\n",
       "      <th>4</th>\n",
       "      <td>1</td>\n",
       "      <td>0.000500</td>\n",
       "      <td>-0.000449</td>\n",
       "      <td>1.0</td>\n",
       "      <td>0.0</td>\n",
       "      <td>1.0</td>\n",
       "      <td>A</td>\n",
       "      <td>False</td>\n",
       "      <td>1</td>\n",
       "      <td>0.00225</td>\n",
       "      <td>-0.00032</td>\n",
       "    </tr>\n",
       "  </tbody>\n",
       "</table>\n",
       "</div>"
      ],
      "text/plain": [
       "   id      time    p1_amp  p1_filter  p2_amp  p2_filter label  p1_change  \\\n",
       "0   1  0.000000 -0.000477        1.0     0.0        1.0     A      False   \n",
       "1   1  0.000125 -0.000813        1.0     0.0        1.0     A      False   \n",
       "2   1  0.000250  0.000190        1.0     0.0        1.0     A      False   \n",
       "3   1  0.000375 -0.000927        1.0     0.0        1.0     A      False   \n",
       "4   1  0.000500 -0.000449        1.0     0.0        1.0     A      False   \n",
       "\n",
       "   p1_speech_grps  p1_amp_grp_mad  p1_grp_med  \n",
       "0               1         0.00225    -0.00032  \n",
       "1               1         0.00225    -0.00032  \n",
       "2               1         0.00225    -0.00032  \n",
       "3               1         0.00225    -0.00032  \n",
       "4               1         0.00225    -0.00032  "
      ]
     },
     "execution_count": 16,
     "metadata": {},
     "output_type": "execute_result"
    }
   ],
   "source": [
    "data_mad.head()"
   ]
  },
  {
   "cell_type": "code",
   "execution_count": 17,
   "metadata": {
    "collapsed": true
   },
   "outputs": [],
   "source": [
    "data_mad['deviation'] = abs((data_mad.p1_amp - data_mad.p1_grp_med ) / data_mad.p1_amp_grp_mad)"
   ]
  },
  {
   "cell_type": "code",
   "execution_count": 18,
   "metadata": {
    "collapsed": true
   },
   "outputs": [],
   "source": [
    "deviations = sorted(data_mad['deviation'])"
   ]
  },
  {
   "cell_type": "code",
   "execution_count": 19,
   "metadata": {
    "collapsed": true
   },
   "outputs": [],
   "source": [
    "import matplotlib.pyplot as plt\n",
    "deviations_df = pd.Series(deviations)\n"
   ]
  },
  {
   "cell_type": "code",
   "execution_count": 20,
   "metadata": {
    "collapsed": true
   },
   "outputs": [],
   "source": [
    "deviations_df = deviations_df.astype(\"int\")"
   ]
  },
  {
   "cell_type": "code",
   "execution_count": 21,
   "metadata": {},
   "outputs": [
    {
     "data": {
      "text/plain": [
       "1080    1\n",
       "1079    1\n",
       "1078    1\n",
       "1077    1\n",
       "1076    1\n",
       "976     1\n",
       "1068    1\n",
       "979     1\n",
       "1064    1\n",
       "1274    1\n",
       "dtype: int64"
      ]
     },
     "execution_count": 21,
     "metadata": {},
     "output_type": "execute_result"
    }
   ],
   "source": [
    "deviations_df.value_counts().tail(10)"
   ]
  },
  {
   "cell_type": "code",
   "execution_count": 22,
   "metadata": {},
   "outputs": [
    {
     "data": {
      "text/plain": [
       "0     8229989\n",
       "1     3618460\n",
       "2     1554848\n",
       "3      733368\n",
       "4      412736\n",
       "5      270107\n",
       "6      193948\n",
       "7      147406\n",
       "8      117122\n",
       "9       95783\n",
       "10      79980\n",
       "11      67722\n",
       "dtype: int64"
      ]
     },
     "execution_count": 22,
     "metadata": {},
     "output_type": "execute_result"
    }
   ],
   "source": [
    "deviations_df.value_counts().head(12)"
   ]
  },
  {
   "cell_type": "markdown",
   "metadata": {},
   "source": [
    "### Step 2: Remove Outliers from data frames\n",
    "\n",
    "As a rule of Thumb, anything above 2.5 to 3.0 are considered to be outliers. We remove them "
   ]
  },
  {
   "cell_type": "code",
   "execution_count": 25,
   "metadata": {},
   "outputs": [
    {
     "data": {
      "text/html": [
       "<div>\n",
       "<style>\n",
       "    .dataframe thead tr:only-child th {\n",
       "        text-align: right;\n",
       "    }\n",
       "\n",
       "    .dataframe thead th {\n",
       "        text-align: left;\n",
       "    }\n",
       "\n",
       "    .dataframe tbody tr th {\n",
       "        vertical-align: top;\n",
       "    }\n",
       "</style>\n",
       "<table border=\"1\" class=\"dataframe\">\n",
       "  <thead>\n",
       "    <tr style=\"text-align: right;\">\n",
       "      <th></th>\n",
       "      <th>id</th>\n",
       "      <th>time</th>\n",
       "      <th>p1_amp</th>\n",
       "      <th>p1_filter</th>\n",
       "      <th>p2_amp</th>\n",
       "      <th>p2_filter</th>\n",
       "      <th>label</th>\n",
       "      <th>p1_change</th>\n",
       "      <th>p1_speech_grps</th>\n",
       "      <th>p1_amp_grp_mad</th>\n",
       "      <th>p1_grp_med</th>\n",
       "      <th>deviation</th>\n",
       "    </tr>\n",
       "  </thead>\n",
       "  <tbody>\n",
       "    <tr>\n",
       "      <th>0</th>\n",
       "      <td>1</td>\n",
       "      <td>0.000000</td>\n",
       "      <td>-0.000477</td>\n",
       "      <td>1.0</td>\n",
       "      <td>0.0</td>\n",
       "      <td>1.0</td>\n",
       "      <td>A</td>\n",
       "      <td>False</td>\n",
       "      <td>1</td>\n",
       "      <td>0.00225</td>\n",
       "      <td>-0.00032</td>\n",
       "      <td>0.069582</td>\n",
       "    </tr>\n",
       "    <tr>\n",
       "      <th>1</th>\n",
       "      <td>1</td>\n",
       "      <td>0.000125</td>\n",
       "      <td>-0.000813</td>\n",
       "      <td>1.0</td>\n",
       "      <td>0.0</td>\n",
       "      <td>1.0</td>\n",
       "      <td>A</td>\n",
       "      <td>False</td>\n",
       "      <td>1</td>\n",
       "      <td>0.00225</td>\n",
       "      <td>-0.00032</td>\n",
       "      <td>0.218751</td>\n",
       "    </tr>\n",
       "    <tr>\n",
       "      <th>2</th>\n",
       "      <td>1</td>\n",
       "      <td>0.000250</td>\n",
       "      <td>0.000190</td>\n",
       "      <td>1.0</td>\n",
       "      <td>0.0</td>\n",
       "      <td>1.0</td>\n",
       "      <td>A</td>\n",
       "      <td>False</td>\n",
       "      <td>1</td>\n",
       "      <td>0.00225</td>\n",
       "      <td>-0.00032</td>\n",
       "      <td>0.226998</td>\n",
       "    </tr>\n",
       "    <tr>\n",
       "      <th>3</th>\n",
       "      <td>1</td>\n",
       "      <td>0.000375</td>\n",
       "      <td>-0.000927</td>\n",
       "      <td>1.0</td>\n",
       "      <td>0.0</td>\n",
       "      <td>1.0</td>\n",
       "      <td>A</td>\n",
       "      <td>False</td>\n",
       "      <td>1</td>\n",
       "      <td>0.00225</td>\n",
       "      <td>-0.00032</td>\n",
       "      <td>0.269547</td>\n",
       "    </tr>\n",
       "    <tr>\n",
       "      <th>4</th>\n",
       "      <td>1</td>\n",
       "      <td>0.000500</td>\n",
       "      <td>-0.000449</td>\n",
       "      <td>1.0</td>\n",
       "      <td>0.0</td>\n",
       "      <td>1.0</td>\n",
       "      <td>A</td>\n",
       "      <td>False</td>\n",
       "      <td>1</td>\n",
       "      <td>0.00225</td>\n",
       "      <td>-0.00032</td>\n",
       "      <td>0.056954</td>\n",
       "    </tr>\n",
       "  </tbody>\n",
       "</table>\n",
       "</div>"
      ],
      "text/plain": [
       "   id      time    p1_amp  p1_filter  p2_amp  p2_filter label  p1_change  \\\n",
       "0   1  0.000000 -0.000477        1.0     0.0        1.0     A      False   \n",
       "1   1  0.000125 -0.000813        1.0     0.0        1.0     A      False   \n",
       "2   1  0.000250  0.000190        1.0     0.0        1.0     A      False   \n",
       "3   1  0.000375 -0.000927        1.0     0.0        1.0     A      False   \n",
       "4   1  0.000500 -0.000449        1.0     0.0        1.0     A      False   \n",
       "\n",
       "   p1_speech_grps  p1_amp_grp_mad  p1_grp_med  deviation  \n",
       "0               1         0.00225    -0.00032   0.069582  \n",
       "1               1         0.00225    -0.00032   0.218751  \n",
       "2               1         0.00225    -0.00032   0.226998  \n",
       "3               1         0.00225    -0.00032   0.269547  \n",
       "4               1         0.00225    -0.00032   0.056954  "
      ]
     },
     "execution_count": 25,
     "metadata": {},
     "output_type": "execute_result"
    }
   ],
   "source": [
    "data_mad.head()"
   ]
  },
  {
   "cell_type": "code",
   "execution_count": 26,
   "metadata": {
    "collapsed": true
   },
   "outputs": [],
   "source": [
    "data_cleaned  = data_mad.loc[data_mad['deviation'] < 3]"
   ]
  },
  {
   "cell_type": "code",
   "execution_count": 27,
   "metadata": {},
   "outputs": [
    {
     "data": {
      "text/plain": [
       "(13403297, 12)"
      ]
     },
     "execution_count": 27,
     "metadata": {},
     "output_type": "execute_result"
    }
   ],
   "source": [
    "data_cleaned.shape"
   ]
  },
  {
   "cell_type": "code",
   "execution_count": 28,
   "metadata": {},
   "outputs": [
    {
     "data": {
      "text/plain": [
       "(16460209, 12)"
      ]
     },
     "execution_count": 28,
     "metadata": {},
     "output_type": "execute_result"
    }
   ],
   "source": [
    "data_mad.shape"
   ]
  },
  {
   "cell_type": "markdown",
   "metadata": {},
   "source": [
    "About 18% of the data were outliers"
   ]
  },
  {
   "cell_type": "markdown",
   "metadata": {},
   "source": [
    "## Step 3. Finding Range"
   ]
  },
  {
   "cell_type": "code",
   "execution_count": 31,
   "metadata": {
    "collapsed": true
   },
   "outputs": [],
   "source": [
    "data_range = data_cleaned.groupby('p1_speech_grps',as_index = False)['p1_amp'].agg({\n",
    "    'range': lambda x : max(x) - min(x)\n",
    "})"
   ]
  },
  {
   "cell_type": "code",
   "execution_count": 35,
   "metadata": {
    "collapsed": true
   },
   "outputs": [],
   "source": [
    "data_range = data_range * 1e3"
   ]
  },
  {
   "cell_type": "code",
   "execution_count": 36,
   "metadata": {},
   "outputs": [
    {
     "data": {
      "text/html": [
       "<div>\n",
       "<style>\n",
       "    .dataframe thead tr:only-child th {\n",
       "        text-align: right;\n",
       "    }\n",
       "\n",
       "    .dataframe thead th {\n",
       "        text-align: left;\n",
       "    }\n",
       "\n",
       "    .dataframe tbody tr th {\n",
       "        vertical-align: top;\n",
       "    }\n",
       "</style>\n",
       "<table border=\"1\" class=\"dataframe\">\n",
       "  <thead>\n",
       "    <tr style=\"text-align: right;\">\n",
       "      <th></th>\n",
       "      <th>p1_speech_grps</th>\n",
       "      <th>range</th>\n",
       "    </tr>\n",
       "  </thead>\n",
       "  <tbody>\n",
       "    <tr>\n",
       "      <th>0</th>\n",
       "      <td>-1000.0</td>\n",
       "      <td>6.969099</td>\n",
       "    </tr>\n",
       "    <tr>\n",
       "      <th>1</th>\n",
       "      <td>1000.0</td>\n",
       "      <td>13.501030</td>\n",
       "    </tr>\n",
       "    <tr>\n",
       "      <th>2</th>\n",
       "      <td>2000.0</td>\n",
       "      <td>18.858873</td>\n",
       "    </tr>\n",
       "    <tr>\n",
       "      <th>3</th>\n",
       "      <td>3000.0</td>\n",
       "      <td>24.415232</td>\n",
       "    </tr>\n",
       "    <tr>\n",
       "      <th>4</th>\n",
       "      <td>4000.0</td>\n",
       "      <td>19.651535</td>\n",
       "    </tr>\n",
       "  </tbody>\n",
       "</table>\n",
       "</div>"
      ],
      "text/plain": [
       "   p1_speech_grps      range\n",
       "0         -1000.0   6.969099\n",
       "1          1000.0  13.501030\n",
       "2          2000.0  18.858873\n",
       "3          3000.0  24.415232\n",
       "4          4000.0  19.651535"
      ]
     },
     "execution_count": 36,
     "metadata": {},
     "output_type": "execute_result"
    }
   ],
   "source": [
    "data_range.head()"
   ]
  },
  {
   "cell_type": "code",
   "execution_count": 37,
   "metadata": {},
   "outputs": [
    {
     "data": {
      "text/plain": [
       "3.7938583875074983"
      ]
     },
     "execution_count": 37,
     "metadata": {},
     "output_type": "execute_result"
    }
   ],
   "source": [
    "data_range.range.quantile(0.10)"
   ]
  },
  {
   "cell_type": "code",
   "execution_count": 40,
   "metadata": {},
   "outputs": [
    {
     "data": {
      "text/plain": [
       "False    20\n",
       "True     15\n",
       "Name: range, dtype: int64"
      ]
     },
     "execution_count": 40,
     "metadata": {},
     "output_type": "execute_result"
    }
   ],
   "source": [
    "(data_range.loc[398:432,\"range\"] < np.percentile(data_range.range,20)).value_counts()"
   ]
  },
  {
   "cell_type": "markdown",
   "metadata": {},
   "source": [
    "As these did not improve the results at all, We cannot say how many occurences of these speech signal would happen for every sound signal. Hence it would be very hard to determine them with percentile values. Hence, a cutoff value has to be emprically determined. "
   ]
  },
  {
   "cell_type": "markdown",
   "metadata": {},
   "source": [
    "## Emprical Determination of Range Cutoff Value"
   ]
  },
  {
   "cell_type": "code",
   "execution_count": 41,
   "metadata": {},
   "outputs": [
    {
     "data": {
      "text/plain": [
       "[<matplotlib.lines.Line2D at 0x7f616074fe10>]"
      ]
     },
     "execution_count": 41,
     "metadata": {},
     "output_type": "execute_result"
    },
    {
     "data": {
      "image/png": "[encoded data removed]",
      "text/plain": [
       "<matplotlib.figure.Figure at 0x7f5ef2710160>"
      ]
     },
     "metadata": {},
     "output_type": "display_data"
    }
   ],
   "source": [
    "plt.plot(data_range.loc[398:432,\"range\"])"
   ]
  },
  {
   "cell_type": "code",
   "execution_count": 85,
   "metadata": {},
   "outputs": [
    {
     "data": {
      "text/html": [
       "<div>\n",
       "<style>\n",
       "    .dataframe thead tr:only-child th {\n",
       "        text-align: right;\n",
       "    }\n",
       "\n",
       "    .dataframe thead th {\n",
       "        text-align: left;\n",
       "    }\n",
       "\n",
       "    .dataframe tbody tr th {\n",
       "        vertical-align: top;\n",
       "    }\n",
       "</style>\n",
       "<table border=\"1\" class=\"dataframe\">\n",
       "  <thead>\n",
       "    <tr style=\"text-align: right;\">\n",
       "      <th></th>\n",
       "      <th>p1_speech_grps</th>\n",
       "      <th>range</th>\n",
       "      <th>segment_start</th>\n",
       "      <th>segment_end</th>\n",
       "    </tr>\n",
       "  </thead>\n",
       "  <tbody>\n",
       "    <tr>\n",
       "      <th>398</th>\n",
       "      <td>398</td>\n",
       "      <td>5.145618</td>\n",
       "      <td>0.000000</td>\n",
       "      <td>26.120750</td>\n",
       "    </tr>\n",
       "    <tr>\n",
       "      <th>399</th>\n",
       "      <td>399</td>\n",
       "      <td>15.551724</td>\n",
       "      <td>6.812625</td>\n",
       "      <td>12.337625</td>\n",
       "    </tr>\n",
       "    <tr>\n",
       "      <th>400</th>\n",
       "      <td>400</td>\n",
       "      <td>4.979284</td>\n",
       "      <td>12.337750</td>\n",
       "      <td>22.166000</td>\n",
       "    </tr>\n",
       "    <tr>\n",
       "      <th>401</th>\n",
       "      <td>401</td>\n",
       "      <td>4.260590</td>\n",
       "      <td>22.166125</td>\n",
       "      <td>27.341375</td>\n",
       "    </tr>\n",
       "    <tr>\n",
       "      <th>402</th>\n",
       "      <td>402</td>\n",
       "      <td>4.104622</td>\n",
       "      <td>27.341500</td>\n",
       "      <td>28.224250</td>\n",
       "    </tr>\n",
       "    <tr>\n",
       "      <th>403</th>\n",
       "      <td>403</td>\n",
       "      <td>4.815313</td>\n",
       "      <td>28.224375</td>\n",
       "      <td>29.098375</td>\n",
       "    </tr>\n",
       "    <tr>\n",
       "      <th>404</th>\n",
       "      <td>404</td>\n",
       "      <td>3.860246</td>\n",
       "      <td>29.098500</td>\n",
       "      <td>30.543875</td>\n",
       "    </tr>\n",
       "    <tr>\n",
       "      <th>405</th>\n",
       "      <td>405</td>\n",
       "      <td>4.079401</td>\n",
       "      <td>30.544000</td>\n",
       "      <td>35.222250</td>\n",
       "    </tr>\n",
       "    <tr>\n",
       "      <th>406</th>\n",
       "      <td>406</td>\n",
       "      <td>4.235278</td>\n",
       "      <td>35.222375</td>\n",
       "      <td>36.142000</td>\n",
       "    </tr>\n",
       "    <tr>\n",
       "      <th>407</th>\n",
       "      <td>407</td>\n",
       "      <td>4.407035</td>\n",
       "      <td>36.142125</td>\n",
       "      <td>38.752625</td>\n",
       "    </tr>\n",
       "    <tr>\n",
       "      <th>408</th>\n",
       "      <td>408</td>\n",
       "      <td>5.069058</td>\n",
       "      <td>38.752750</td>\n",
       "      <td>45.079875</td>\n",
       "    </tr>\n",
       "    <tr>\n",
       "      <th>409</th>\n",
       "      <td>409</td>\n",
       "      <td>12.921429</td>\n",
       "      <td>45.080000</td>\n",
       "      <td>46.172250</td>\n",
       "    </tr>\n",
       "    <tr>\n",
       "      <th>410</th>\n",
       "      <td>410</td>\n",
       "      <td>4.373548</td>\n",
       "      <td>46.172375</td>\n",
       "      <td>73.273625</td>\n",
       "    </tr>\n",
       "    <tr>\n",
       "      <th>411</th>\n",
       "      <td>411</td>\n",
       "      <td>5.478545</td>\n",
       "      <td>73.273750</td>\n",
       "      <td>75.026500</td>\n",
       "    </tr>\n",
       "    <tr>\n",
       "      <th>412</th>\n",
       "      <td>412</td>\n",
       "      <td>4.054017</td>\n",
       "      <td>75.026625</td>\n",
       "      <td>80.158750</td>\n",
       "    </tr>\n",
       "    <tr>\n",
       "      <th>413</th>\n",
       "      <td>413</td>\n",
       "      <td>3.982462</td>\n",
       "      <td>80.158875</td>\n",
       "      <td>82.926625</td>\n",
       "    </tr>\n",
       "    <tr>\n",
       "      <th>414</th>\n",
       "      <td>414</td>\n",
       "      <td>3.691516</td>\n",
       "      <td>82.926750</td>\n",
       "      <td>83.928250</td>\n",
       "    </tr>\n",
       "    <tr>\n",
       "      <th>415</th>\n",
       "      <td>415</td>\n",
       "      <td>4.181657</td>\n",
       "      <td>83.928375</td>\n",
       "      <td>86.757125</td>\n",
       "    </tr>\n",
       "    <tr>\n",
       "      <th>416</th>\n",
       "      <td>416</td>\n",
       "      <td>3.960202</td>\n",
       "      <td>86.757250</td>\n",
       "      <td>89.508875</td>\n",
       "    </tr>\n",
       "    <tr>\n",
       "      <th>417</th>\n",
       "      <td>417</td>\n",
       "      <td>4.088961</td>\n",
       "      <td>89.509000</td>\n",
       "      <td>91.131500</td>\n",
       "    </tr>\n",
       "    <tr>\n",
       "      <th>418</th>\n",
       "      <td>418</td>\n",
       "      <td>4.006361</td>\n",
       "      <td>91.131625</td>\n",
       "      <td>93.149375</td>\n",
       "    </tr>\n",
       "    <tr>\n",
       "      <th>419</th>\n",
       "      <td>419</td>\n",
       "      <td>3.605794</td>\n",
       "      <td>93.149500</td>\n",
       "      <td>96.359250</td>\n",
       "    </tr>\n",
       "    <tr>\n",
       "      <th>420</th>\n",
       "      <td>420</td>\n",
       "      <td>3.878528</td>\n",
       "      <td>96.359375</td>\n",
       "      <td>97.896375</td>\n",
       "    </tr>\n",
       "    <tr>\n",
       "      <th>421</th>\n",
       "      <td>421</td>\n",
       "      <td>4.767942</td>\n",
       "      <td>97.896500</td>\n",
       "      <td>101.711375</td>\n",
       "    </tr>\n",
       "    <tr>\n",
       "      <th>422</th>\n",
       "      <td>422</td>\n",
       "      <td>3.815103</td>\n",
       "      <td>101.711500</td>\n",
       "      <td>106.446500</td>\n",
       "    </tr>\n",
       "    <tr>\n",
       "      <th>423</th>\n",
       "      <td>423</td>\n",
       "      <td>4.461759</td>\n",
       "      <td>106.446625</td>\n",
       "      <td>108.502250</td>\n",
       "    </tr>\n",
       "    <tr>\n",
       "      <th>424</th>\n",
       "      <td>424</td>\n",
       "      <td>4.247096</td>\n",
       "      <td>108.502375</td>\n",
       "      <td>111.981250</td>\n",
       "    </tr>\n",
       "    <tr>\n",
       "      <th>425</th>\n",
       "      <td>425</td>\n",
       "      <td>4.273280</td>\n",
       "      <td>111.981375</td>\n",
       "      <td>112.794750</td>\n",
       "    </tr>\n",
       "    <tr>\n",
       "      <th>426</th>\n",
       "      <td>426</td>\n",
       "      <td>4.621174</td>\n",
       "      <td>112.794875</td>\n",
       "      <td>115.500375</td>\n",
       "    </tr>\n",
       "    <tr>\n",
       "      <th>427</th>\n",
       "      <td>427</td>\n",
       "      <td>4.186260</td>\n",
       "      <td>115.500500</td>\n",
       "      <td>119.125875</td>\n",
       "    </tr>\n",
       "    <tr>\n",
       "      <th>428</th>\n",
       "      <td>428</td>\n",
       "      <td>4.585495</td>\n",
       "      <td>119.126000</td>\n",
       "      <td>121.287625</td>\n",
       "    </tr>\n",
       "    <tr>\n",
       "      <th>429</th>\n",
       "      <td>429</td>\n",
       "      <td>4.303283</td>\n",
       "      <td>121.287750</td>\n",
       "      <td>131.618375</td>\n",
       "    </tr>\n",
       "    <tr>\n",
       "      <th>430</th>\n",
       "      <td>430</td>\n",
       "      <td>3.779548</td>\n",
       "      <td>131.618500</td>\n",
       "      <td>138.100500</td>\n",
       "    </tr>\n",
       "    <tr>\n",
       "      <th>431</th>\n",
       "      <td>431</td>\n",
       "      <td>4.789789</td>\n",
       "      <td>138.100625</td>\n",
       "      <td>141.429875</td>\n",
       "    </tr>\n",
       "    <tr>\n",
       "      <th>432</th>\n",
       "      <td>432</td>\n",
       "      <td>4.402796</td>\n",
       "      <td>0.000000</td>\n",
       "      <td>143.339000</td>\n",
       "    </tr>\n",
       "  </tbody>\n",
       "</table>\n",
       "</div>"
      ],
      "text/plain": [
       "     p1_speech_grps      range  segment_start  segment_end\n",
       "398             398   5.145618       0.000000    26.120750\n",
       "399             399  15.551724       6.812625    12.337625\n",
       "400             400   4.979284      12.337750    22.166000\n",
       "401             401   4.260590      22.166125    27.341375\n",
       "402             402   4.104622      27.341500    28.224250\n",
       "403             403   4.815313      28.224375    29.098375\n",
       "404             404   3.860246      29.098500    30.543875\n",
       "405             405   4.079401      30.544000    35.222250\n",
       "406             406   4.235278      35.222375    36.142000\n",
       "407             407   4.407035      36.142125    38.752625\n",
       "408             408   5.069058      38.752750    45.079875\n",
       "409             409  12.921429      45.080000    46.172250\n",
       "410             410   4.373548      46.172375    73.273625\n",
       "411             411   5.478545      73.273750    75.026500\n",
       "412             412   4.054017      75.026625    80.158750\n",
       "413             413   3.982462      80.158875    82.926625\n",
       "414             414   3.691516      82.926750    83.928250\n",
       "415             415   4.181657      83.928375    86.757125\n",
       "416             416   3.960202      86.757250    89.508875\n",
       "417             417   4.088961      89.509000    91.131500\n",
       "418             418   4.006361      91.131625    93.149375\n",
       "419             419   3.605794      93.149500    96.359250\n",
       "420             420   3.878528      96.359375    97.896375\n",
       "421             421   4.767942      97.896500   101.711375\n",
       "422             422   3.815103     101.711500   106.446500\n",
       "423             423   4.461759     106.446625   108.502250\n",
       "424             424   4.247096     108.502375   111.981250\n",
       "425             425   4.273280     111.981375   112.794750\n",
       "426             426   4.621174     112.794875   115.500375\n",
       "427             427   4.186260     115.500500   119.125875\n",
       "428             428   4.585495     119.126000   121.287625\n",
       "429             429   4.303283     121.287750   131.618375\n",
       "430             430   3.779548     131.618500   138.100500\n",
       "431             431   4.789789     138.100625   141.429875\n",
       "432             432   4.402796       0.000000   143.339000"
      ]
     },
     "execution_count": 85,
     "metadata": {},
     "output_type": "execute_result"
    }
   ],
   "source": [
    "time_range.loc[398:432,]"
   ]
  },
  {
   "cell_type": "markdown",
   "metadata": {},
   "source": [
    "Compute Start and Stop position of Speech Groups for every id"
   ]
  },
  {
   "cell_type": "code",
   "execution_count": 83,
   "metadata": {},
   "outputs": [
    {
     "name": "stderr",
     "output_type": "stream",
     "text": [
      "/home/sreeaurovindh/.pyenv/versions/3.6.0/envs/general/lib/python3.6/site-packages/ipykernel_launcher.py:3: FutureWarning: using a dict on a Series for aggregation\n",
      "is deprecated and will be removed in a future version\n",
      "  This is separate from the ipykernel package so we can avoid doing imports until\n"
     ]
    }
   ],
   "source": [
    "segment_groups = data.groupby('id')['p1_speech_grps'].agg({\n",
    "    'segment_start': lambda x : min(x),\n",
    "    'segment_end' : lambda x : max(x)\n",
    "})"
   ]
  },
  {
   "cell_type": "code",
   "execution_count": 78,
   "metadata": {},
   "outputs": [
    {
     "data": {
      "text/html": [
       "<div>\n",
       "<style>\n",
       "    .dataframe thead tr:only-child th {\n",
       "        text-align: right;\n",
       "    }\n",
       "\n",
       "    .dataframe thead th {\n",
       "        text-align: left;\n",
       "    }\n",
       "\n",
       "    .dataframe tbody tr th {\n",
       "        vertical-align: top;\n",
       "    }\n",
       "</style>\n",
       "<table border=\"1\" class=\"dataframe\">\n",
       "  <thead>\n",
       "    <tr style=\"text-align: right;\">\n",
       "      <th></th>\n",
       "      <th>p1_speech_grps</th>\n",
       "      <th>segment_start</th>\n",
       "      <th>segment_end</th>\n",
       "    </tr>\n",
       "  </thead>\n",
       "  <tbody>\n",
       "    <tr>\n",
       "      <th>0</th>\n",
       "      <td>-1</td>\n",
       "      <td>67.668750</td>\n",
       "      <td>69.194625</td>\n",
       "    </tr>\n",
       "    <tr>\n",
       "      <th>1</th>\n",
       "      <td>1</td>\n",
       "      <td>0.000000</td>\n",
       "      <td>2.865750</td>\n",
       "    </tr>\n",
       "    <tr>\n",
       "      <th>2</th>\n",
       "      <td>2</td>\n",
       "      <td>2.865875</td>\n",
       "      <td>5.429375</td>\n",
       "    </tr>\n",
       "    <tr>\n",
       "      <th>3</th>\n",
       "      <td>3</td>\n",
       "      <td>5.429500</td>\n",
       "      <td>9.547625</td>\n",
       "    </tr>\n",
       "    <tr>\n",
       "      <th>4</th>\n",
       "      <td>4</td>\n",
       "      <td>9.547750</td>\n",
       "      <td>11.565500</td>\n",
       "    </tr>\n",
       "  </tbody>\n",
       "</table>\n",
       "</div>"
      ],
      "text/plain": [
       "   p1_speech_grps  segment_start  segment_end\n",
       "0              -1      67.668750    69.194625\n",
       "1               1       0.000000     2.865750\n",
       "2               2       2.865875     5.429375\n",
       "3               3       5.429500     9.547625\n",
       "4               4       9.547750    11.565500"
      ]
     },
     "execution_count": 78,
     "metadata": {},
     "output_type": "execute_result"
    }
   ],
   "source": [
    "time_groups = data.groupby('p1_speech_grps',as_index= False)['time'].agg({\n",
    "    'segment_start': lambda x : min(x),\n",
    "    'segment_end' : lambda x : max(x)\n",
    "})\n",
    "\n",
    "time_groups.head()"
   ]
  },
  {
   "cell_type": "code",
   "execution_count": 71,
   "metadata": {},
   "outputs": [
    {
     "data": {
      "text/html": [
       "<div>\n",
       "<style>\n",
       "    .dataframe thead tr:only-child th {\n",
       "        text-align: right;\n",
       "    }\n",
       "\n",
       "    .dataframe thead th {\n",
       "        text-align: left;\n",
       "    }\n",
       "\n",
       "    .dataframe tbody tr th {\n",
       "        vertical-align: top;\n",
       "    }\n",
       "</style>\n",
       "<table border=\"1\" class=\"dataframe\">\n",
       "  <thead>\n",
       "    <tr style=\"text-align: right;\">\n",
       "      <th></th>\n",
       "      <th>p1_speech_grps</th>\n",
       "      <th>range</th>\n",
       "    </tr>\n",
       "  </thead>\n",
       "  <tbody>\n",
       "    <tr>\n",
       "      <th>0</th>\n",
       "      <td>-1</td>\n",
       "      <td>6.969099</td>\n",
       "    </tr>\n",
       "    <tr>\n",
       "      <th>1</th>\n",
       "      <td>1</td>\n",
       "      <td>13.501030</td>\n",
       "    </tr>\n",
       "    <tr>\n",
       "      <th>2</th>\n",
       "      <td>2</td>\n",
       "      <td>18.858873</td>\n",
       "    </tr>\n",
       "    <tr>\n",
       "      <th>3</th>\n",
       "      <td>3</td>\n",
       "      <td>24.415232</td>\n",
       "    </tr>\n",
       "    <tr>\n",
       "      <th>4</th>\n",
       "      <td>4</td>\n",
       "      <td>19.651535</td>\n",
       "    </tr>\n",
       "  </tbody>\n",
       "</table>\n",
       "</div>"
      ],
      "text/plain": [
       "   p1_speech_grps      range\n",
       "0              -1   6.969099\n",
       "1               1  13.501030\n",
       "2               2  18.858873\n",
       "3               3  24.415232\n",
       "4               4  19.651535"
      ]
     },
     "execution_count": 71,
     "metadata": {},
     "output_type": "execute_result"
    }
   ],
   "source": [
    "data_range.head()"
   ]
  },
  {
   "cell_type": "code",
   "execution_count": 79,
   "metadata": {
    "collapsed": true
   },
   "outputs": [],
   "source": [
    "time_range = pd.merge(data_range,time_groups,on=\"p1_speech_grps\",how=\"inner\")"
   ]
  },
  {
   "cell_type": "code",
   "execution_count": 80,
   "metadata": {},
   "outputs": [
    {
     "data": {
      "text/plain": [
       "[<matplotlib.lines.Line2D at 0x7f616057ae10>]"
      ]
     },
     "execution_count": 80,
     "metadata": {},
     "output_type": "execute_result"
    },
    {
     "data": {
      "image/png": "[encoded data removed]",
      "text/plain": [
       "<matplotlib.figure.Figure at 0x7f616048cd30>"
      ]
     },
     "metadata": {},
     "output_type": "display_data"
    }
   ],
   "source": [
    "plt.plot(time_range.loc[47:80,\"range\"])"
   ]
  },
  {
   "cell_type": "code",
   "execution_count": null,
   "metadata": {
    "collapsed": true
   },
   "outputs": [],
   "source": [
    "time_range.loc[47:80,]"
   ]
  },
  {
   "cell_type": "code",
   "execution_count": 63,
   "metadata": {},
   "outputs": [
    {
     "data": {
      "text/html": [
       "<div>\n",
       "<style>\n",
       "    .dataframe thead tr:only-child th {\n",
       "        text-align: right;\n",
       "    }\n",
       "\n",
       "    .dataframe thead th {\n",
       "        text-align: left;\n",
       "    }\n",
       "\n",
       "    .dataframe tbody tr th {\n",
       "        vertical-align: top;\n",
       "    }\n",
       "</style>\n",
       "<table border=\"1\" class=\"dataframe\">\n",
       "  <thead>\n",
       "    <tr style=\"text-align: right;\">\n",
       "      <th></th>\n",
       "      <th>id</th>\n",
       "      <th>time</th>\n",
       "      <th>p1_amp</th>\n",
       "      <th>p1_filter</th>\n",
       "      <th>p2_amp</th>\n",
       "      <th>p2_filter</th>\n",
       "      <th>label</th>\n",
       "      <th>p1_change</th>\n",
       "      <th>p1_speech_grps</th>\n",
       "    </tr>\n",
       "  </thead>\n",
       "  <tbody>\n",
       "    <tr>\n",
       "      <th>0</th>\n",
       "      <td>1</td>\n",
       "      <td>0.000000</td>\n",
       "      <td>-0.000477</td>\n",
       "      <td>1.0</td>\n",
       "      <td>0.0</td>\n",
       "      <td>1.0</td>\n",
       "      <td>A</td>\n",
       "      <td>False</td>\n",
       "      <td>1</td>\n",
       "    </tr>\n",
       "    <tr>\n",
       "      <th>1</th>\n",
       "      <td>1</td>\n",
       "      <td>0.000125</td>\n",
       "      <td>-0.000813</td>\n",
       "      <td>1.0</td>\n",
       "      <td>0.0</td>\n",
       "      <td>1.0</td>\n",
       "      <td>A</td>\n",
       "      <td>False</td>\n",
       "      <td>1</td>\n",
       "    </tr>\n",
       "    <tr>\n",
       "      <th>2</th>\n",
       "      <td>1</td>\n",
       "      <td>0.000250</td>\n",
       "      <td>0.000190</td>\n",
       "      <td>1.0</td>\n",
       "      <td>0.0</td>\n",
       "      <td>1.0</td>\n",
       "      <td>A</td>\n",
       "      <td>False</td>\n",
       "      <td>1</td>\n",
       "    </tr>\n",
       "    <tr>\n",
       "      <th>3</th>\n",
       "      <td>1</td>\n",
       "      <td>0.000375</td>\n",
       "      <td>-0.000927</td>\n",
       "      <td>1.0</td>\n",
       "      <td>0.0</td>\n",
       "      <td>1.0</td>\n",
       "      <td>A</td>\n",
       "      <td>False</td>\n",
       "      <td>1</td>\n",
       "    </tr>\n",
       "    <tr>\n",
       "      <th>4</th>\n",
       "      <td>1</td>\n",
       "      <td>0.000500</td>\n",
       "      <td>-0.000449</td>\n",
       "      <td>1.0</td>\n",
       "      <td>0.0</td>\n",
       "      <td>1.0</td>\n",
       "      <td>A</td>\n",
       "      <td>False</td>\n",
       "      <td>1</td>\n",
       "    </tr>\n",
       "  </tbody>\n",
       "</table>\n",
       "</div>"
      ],
      "text/plain": [
       "   id      time    p1_amp  p1_filter  p2_amp  p2_filter label  p1_change  \\\n",
       "0   1  0.000000 -0.000477        1.0     0.0        1.0     A      False   \n",
       "1   1  0.000125 -0.000813        1.0     0.0        1.0     A      False   \n",
       "2   1  0.000250  0.000190        1.0     0.0        1.0     A      False   \n",
       "3   1  0.000375 -0.000927        1.0     0.0        1.0     A      False   \n",
       "4   1  0.000500 -0.000449        1.0     0.0        1.0     A      False   \n",
       "\n",
       "   p1_speech_grps  \n",
       "0               1  \n",
       "1               1  \n",
       "2               1  \n",
       "3               1  \n",
       "4               1  "
      ]
     },
     "execution_count": 63,
     "metadata": {},
     "output_type": "execute_result"
    }
   ],
   "source": [
    "data.head()"
   ]
  },
  {
   "cell_type": "code",
   "execution_count": 84,
   "metadata": {},
   "outputs": [
    {
     "data": {
      "text/html": [
       "<div>\n",
       "<style>\n",
       "    .dataframe thead tr:only-child th {\n",
       "        text-align: right;\n",
       "    }\n",
       "\n",
       "    .dataframe thead th {\n",
       "        text-align: left;\n",
       "    }\n",
       "\n",
       "    .dataframe tbody tr th {\n",
       "        vertical-align: top;\n",
       "    }\n",
       "</style>\n",
       "<table border=\"1\" class=\"dataframe\">\n",
       "  <thead>\n",
       "    <tr style=\"text-align: right;\">\n",
       "      <th></th>\n",
       "      <th>segment_start</th>\n",
       "      <th>segment_end</th>\n",
       "    </tr>\n",
       "    <tr>\n",
       "      <th>id</th>\n",
       "      <th></th>\n",
       "      <th></th>\n",
       "    </tr>\n",
       "  </thead>\n",
       "  <tbody>\n",
       "    <tr>\n",
       "      <th>1</th>\n",
       "      <td>1</td>\n",
       "      <td>47</td>\n",
       "    </tr>\n",
       "    <tr>\n",
       "      <th>2</th>\n",
       "      <td>47</td>\n",
       "      <td>80</td>\n",
       "    </tr>\n",
       "    <tr>\n",
       "      <th>3</th>\n",
       "      <td>80</td>\n",
       "      <td>116</td>\n",
       "    </tr>\n",
       "    <tr>\n",
       "      <th>4</th>\n",
       "      <td>116</td>\n",
       "      <td>118</td>\n",
       "    </tr>\n",
       "    <tr>\n",
       "      <th>5</th>\n",
       "      <td>118</td>\n",
       "      <td>126</td>\n",
       "    </tr>\n",
       "    <tr>\n",
       "      <th>6</th>\n",
       "      <td>126</td>\n",
       "      <td>135</td>\n",
       "    </tr>\n",
       "    <tr>\n",
       "      <th>7</th>\n",
       "      <td>135</td>\n",
       "      <td>156</td>\n",
       "    </tr>\n",
       "    <tr>\n",
       "      <th>8</th>\n",
       "      <td>156</td>\n",
       "      <td>166</td>\n",
       "    </tr>\n",
       "    <tr>\n",
       "      <th>9</th>\n",
       "      <td>166</td>\n",
       "      <td>186</td>\n",
       "    </tr>\n",
       "    <tr>\n",
       "      <th>10</th>\n",
       "      <td>186</td>\n",
       "      <td>193</td>\n",
       "    </tr>\n",
       "    <tr>\n",
       "      <th>11</th>\n",
       "      <td>193</td>\n",
       "      <td>217</td>\n",
       "    </tr>\n",
       "    <tr>\n",
       "      <th>12</th>\n",
       "      <td>217</td>\n",
       "      <td>236</td>\n",
       "    </tr>\n",
       "    <tr>\n",
       "      <th>13</th>\n",
       "      <td>236</td>\n",
       "      <td>253</td>\n",
       "    </tr>\n",
       "    <tr>\n",
       "      <th>14</th>\n",
       "      <td>253</td>\n",
       "      <td>270</td>\n",
       "    </tr>\n",
       "    <tr>\n",
       "      <th>15</th>\n",
       "      <td>270</td>\n",
       "      <td>277</td>\n",
       "    </tr>\n",
       "    <tr>\n",
       "      <th>16</th>\n",
       "      <td>277</td>\n",
       "      <td>288</td>\n",
       "    </tr>\n",
       "    <tr>\n",
       "      <th>17</th>\n",
       "      <td>288</td>\n",
       "      <td>295</td>\n",
       "    </tr>\n",
       "    <tr>\n",
       "      <th>18</th>\n",
       "      <td>295</td>\n",
       "      <td>300</td>\n",
       "    </tr>\n",
       "    <tr>\n",
       "      <th>19</th>\n",
       "      <td>300</td>\n",
       "      <td>374</td>\n",
       "    </tr>\n",
       "    <tr>\n",
       "      <th>20</th>\n",
       "      <td>374</td>\n",
       "      <td>378</td>\n",
       "    </tr>\n",
       "    <tr>\n",
       "      <th>21</th>\n",
       "      <td>378</td>\n",
       "      <td>393</td>\n",
       "    </tr>\n",
       "    <tr>\n",
       "      <th>22</th>\n",
       "      <td>393</td>\n",
       "      <td>398</td>\n",
       "    </tr>\n",
       "    <tr>\n",
       "      <th>23</th>\n",
       "      <td>398</td>\n",
       "      <td>432</td>\n",
       "    </tr>\n",
       "    <tr>\n",
       "      <th>24</th>\n",
       "      <td>-1</td>\n",
       "      <td>442</td>\n",
       "    </tr>\n",
       "  </tbody>\n",
       "</table>\n",
       "</div>"
      ],
      "text/plain": [
       "    segment_start  segment_end\n",
       "id                            \n",
       "1               1           47\n",
       "2              47           80\n",
       "3              80          116\n",
       "4             116          118\n",
       "5             118          126\n",
       "6             126          135\n",
       "7             135          156\n",
       "8             156          166\n",
       "9             166          186\n",
       "10            186          193\n",
       "11            193          217\n",
       "12            217          236\n",
       "13            236          253\n",
       "14            253          270\n",
       "15            270          277\n",
       "16            277          288\n",
       "17            288          295\n",
       "18            295          300\n",
       "19            300          374\n",
       "20            374          378\n",
       "21            378          393\n",
       "22            393          398\n",
       "23            398          432\n",
       "24             -1          442"
      ]
     },
     "execution_count": 84,
     "metadata": {},
     "output_type": "execute_result"
    }
   ],
   "source": [
    "segment_groups"
   ]
  },
  {
   "cell_type": "code",
   "execution_count": null,
   "metadata": {
    "collapsed": true
   },
   "outputs": [],
   "source": [
    "from sklearn.svm import LinearSVC\n",
    "from sklearn.feature_selection import SelectFromModel\n",
    "lsvc = LinearSVC(C=0.01, penalty=\"l1\", dual=False).fit(X_res, y_res)\n",
    "model = SelectFromModel(lsvc, prefit=True)\n",
    "\n",
    "X_new = model.transform(X_res)\n",
    "\n",
    "print(X_res.shape,y_res.shape)\n",
    "X_test[0]"
   ]
  }
 ],
 "metadata": {
  "kernelspec": {
   "display_name": "Python 3",
   "language": "python",
   "name": "python3"
  },
  "language_info": {
   "codemirror_mode": {
    "name": "ipython",
    "version": 3
   },
   "file_extension": ".py",
   "mimetype": "text/x-python",
   "name": "python",
   "nbconvert_exporter": "python",
   "pygments_lexer": "ipython3",
   "version": "3.6.0"
  }
 },
 "nbformat": 4,
 "nbformat_minor": 2
}
