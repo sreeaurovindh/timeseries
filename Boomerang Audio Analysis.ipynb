{
 "cells": [
  {
   "cell_type": "markdown",
   "metadata": {},
   "source": [
    "# Boomerang Audio Analysis with Raw Audio"
   ]
  },
  {
   "cell_type": "code",
   "execution_count": 3,
   "metadata": {
    "collapsed": true
   },
   "outputs": [],
   "source": [
    "import pandas as pd\n",
    "import seaborn as sns\n",
    "import datetime\n",
    "import numpy as np\n",
    "%matplotlib inline\n",
    "import matplotlib.pylab as plt\n",
    "from tsfresh import extract_features, extract_relevant_features, select_features\n",
    "from tsfresh.utilities.dataframe_functions import impute\n",
    "from tsfresh.feature_extraction import ComprehensiveFCParameters\n",
    "from sklearn.tree import DecisionTreeClassifier\n",
    "from sklearn.cross_validation import train_test_split\n",
    "from sklearn.metrics import classification_report\n",
    "\n",
    "import logging\n",
    "logging.basicConfig(level=logging.WARN)\n",
    "import sklearn.metrics"
   ]
  },
  {
   "cell_type": "code",
   "execution_count": 4,
   "metadata": {},
   "outputs": [
    {
     "name": "stdout",
     "output_type": "stream",
     "text": [
      "Total Files 19\n"
     ]
    }
   ],
   "source": [
    "import os\n",
    "from natsort import natsorted\n",
    "\n",
    "path ='../csv_files/' # use your path\n",
    "allFiles = [path+file for file in natsorted(os.listdir(path)) if not file.startswith('TBLT_')]\n",
    "allFiles\n",
    "print(\"Total Files\",len(allFiles))"
   ]
  },
  {
   "cell_type": "code",
   "execution_count": 18,
   "metadata": {
    "collapsed": true
   },
   "outputs": [],
   "source": [
    "data = pd.DataFrame()\n",
    "list_ = []\n",
    "file_id_list = []\n",
    "for file_ in allFiles:\n",
    "    df = pd.read_csv(file_,index_col=None, header=None)\n",
    "    df.columns = ['id','time','P1','P2','label']\n",
    "    dt = df.loc[:,['id','label']].drop_duplicates()\n",
    "    dt['act_id'] = dt[\"id\"].astype(int)\n",
    "    dt['act_id'] = dt['act_id'] - min(dt['id']) + 1\n",
    "    dt['file'] = file_.split(\"/\")[2]\n",
    "    file_id_list.append(dt)\n",
    "    list_.append(df)\n",
    "data = pd.concat(list_)\n",
    "file_list = pd.concat(file_id_list)\n",
    "file_list.columns = ['id','label','actual_id','Filename']"
   ]
  },
  {
   "cell_type": "raw",
   "metadata": {
    "collapsed": true
   },
   "source": [
    "data = pd.read_csv(\"../Time_data_08_25_2017_12_36PM/11-20-2014-0435.csv\",header=None)"
   ]
  },
  {
   "cell_type": "code",
   "execution_count": 20,
   "metadata": {},
   "outputs": [
    {
     "data": {
      "text/html": [
       "<div>\n",
       "<style>\n",
       "    .dataframe thead tr:only-child th {\n",
       "        text-align: right;\n",
       "    }\n",
       "\n",
       "    .dataframe thead th {\n",
       "        text-align: left;\n",
       "    }\n",
       "\n",
       "    .dataframe tbody tr th {\n",
       "        vertical-align: top;\n",
       "    }\n",
       "</style>\n",
       "<table border=\"1\" class=\"dataframe\">\n",
       "  <thead>\n",
       "    <tr style=\"text-align: right;\">\n",
       "      <th></th>\n",
       "      <th>id</th>\n",
       "      <th>time</th>\n",
       "      <th>P1</th>\n",
       "      <th>P2</th>\n",
       "      <th>label</th>\n",
       "    </tr>\n",
       "  </thead>\n",
       "  <tbody>\n",
       "    <tr>\n",
       "      <th>0</th>\n",
       "      <td>1</td>\n",
       "      <td>0.000000</td>\n",
       "      <td>0.0</td>\n",
       "      <td>0.0</td>\n",
       "      <td>P</td>\n",
       "    </tr>\n",
       "    <tr>\n",
       "      <th>1</th>\n",
       "      <td>1</td>\n",
       "      <td>0.000125</td>\n",
       "      <td>0.0</td>\n",
       "      <td>0.0</td>\n",
       "      <td>P</td>\n",
       "    </tr>\n",
       "    <tr>\n",
       "      <th>2</th>\n",
       "      <td>1</td>\n",
       "      <td>0.000250</td>\n",
       "      <td>0.0</td>\n",
       "      <td>0.0</td>\n",
       "      <td>P</td>\n",
       "    </tr>\n",
       "    <tr>\n",
       "      <th>3</th>\n",
       "      <td>1</td>\n",
       "      <td>0.000375</td>\n",
       "      <td>0.0</td>\n",
       "      <td>0.0</td>\n",
       "      <td>P</td>\n",
       "    </tr>\n",
       "    <tr>\n",
       "      <th>4</th>\n",
       "      <td>1</td>\n",
       "      <td>0.000500</td>\n",
       "      <td>0.0</td>\n",
       "      <td>0.0</td>\n",
       "      <td>P</td>\n",
       "    </tr>\n",
       "  </tbody>\n",
       "</table>\n",
       "</div>"
      ],
      "text/plain": [
       "   id      time   P1   P2 label\n",
       "0   1  0.000000  0.0  0.0     P\n",
       "1   1  0.000125  0.0  0.0     P\n",
       "2   1  0.000250  0.0  0.0     P\n",
       "3   1  0.000375  0.0  0.0     P\n",
       "4   1  0.000500  0.0  0.0     P"
      ]
     },
     "execution_count": 20,
     "metadata": {},
     "output_type": "execute_result"
    }
   ],
   "source": [
    "data.head()"
   ]
  },
  {
   "cell_type": "code",
   "execution_count": null,
   "metadata": {
    "collapsed": true
   },
   "outputs": [],
   "source": [
    "data.columns = ['time','P1','P2','label','id']"
   ]
  },
  {
   "cell_type": "code",
   "execution_count": 21,
   "metadata": {
    "collapsed": true
   },
   "outputs": [],
   "source": [
    "# Convert to Milliseconds\n",
    "data['time'] = data['time'] * 1e+3\n"
   ]
  },
  {
   "cell_type": "code",
   "execution_count": 22,
   "metadata": {
    "collapsed": true
   },
   "outputs": [],
   "source": [
    "# Take one sample for every 1000 samples\n",
    "data = data.iloc[::1000, :]"
   ]
  },
  {
   "cell_type": "code",
   "execution_count": 23,
   "metadata": {
    "collapsed": true
   },
   "outputs": [],
   "source": [
    "# Sort data frame by id and time\n",
    "data = data.sort_values(['id', 'time'], ascending=[True, True])"
   ]
  },
  {
   "cell_type": "code",
   "execution_count": 24,
   "metadata": {
    "collapsed": true
   },
   "outputs": [],
   "source": [
    "id_values = data.id.unique()"
   ]
  },
  {
   "cell_type": "code",
   "execution_count": 25,
   "metadata": {},
   "outputs": [
    {
     "data": {
      "text/html": [
       "<div>\n",
       "<style>\n",
       "    .dataframe thead tr:only-child th {\n",
       "        text-align: right;\n",
       "    }\n",
       "\n",
       "    .dataframe thead th {\n",
       "        text-align: left;\n",
       "    }\n",
       "\n",
       "    .dataframe tbody tr th {\n",
       "        vertical-align: top;\n",
       "    }\n",
       "</style>\n",
       "<table border=\"1\" class=\"dataframe\">\n",
       "  <thead>\n",
       "    <tr style=\"text-align: right;\">\n",
       "      <th></th>\n",
       "      <th>id</th>\n",
       "      <th>time</th>\n",
       "      <th>P1</th>\n",
       "      <th>P2</th>\n",
       "      <th>label</th>\n",
       "    </tr>\n",
       "  </thead>\n",
       "  <tbody>\n",
       "    <tr>\n",
       "      <th>0</th>\n",
       "      <td>1</td>\n",
       "      <td>0.0</td>\n",
       "      <td>0.0</td>\n",
       "      <td>0.0</td>\n",
       "      <td>P</td>\n",
       "    </tr>\n",
       "    <tr>\n",
       "      <th>1000</th>\n",
       "      <td>1</td>\n",
       "      <td>125.0</td>\n",
       "      <td>0.0</td>\n",
       "      <td>0.0</td>\n",
       "      <td>P</td>\n",
       "    </tr>\n",
       "    <tr>\n",
       "      <th>2000</th>\n",
       "      <td>1</td>\n",
       "      <td>250.0</td>\n",
       "      <td>0.0</td>\n",
       "      <td>0.0</td>\n",
       "      <td>P</td>\n",
       "    </tr>\n",
       "    <tr>\n",
       "      <th>3000</th>\n",
       "      <td>1</td>\n",
       "      <td>375.0</td>\n",
       "      <td>0.0</td>\n",
       "      <td>0.0</td>\n",
       "      <td>P</td>\n",
       "    </tr>\n",
       "    <tr>\n",
       "      <th>4000</th>\n",
       "      <td>1</td>\n",
       "      <td>500.0</td>\n",
       "      <td>0.0</td>\n",
       "      <td>0.0</td>\n",
       "      <td>P</td>\n",
       "    </tr>\n",
       "  </tbody>\n",
       "</table>\n",
       "</div>"
      ],
      "text/plain": [
       "      id   time   P1   P2 label\n",
       "0      1    0.0  0.0  0.0     P\n",
       "1000   1  125.0  0.0  0.0     P\n",
       "2000   1  250.0  0.0  0.0     P\n",
       "3000   1  375.0  0.0  0.0     P\n",
       "4000   1  500.0  0.0  0.0     P"
      ]
     },
     "execution_count": 25,
     "metadata": {},
     "output_type": "execute_result"
    }
   ],
   "source": [
    "data.head()"
   ]
  },
  {
   "cell_type": "code",
   "execution_count": 26,
   "metadata": {},
   "outputs": [
    {
     "data": {
      "text/html": [
       "<div>\n",
       "<style>\n",
       "    .dataframe thead tr:only-child th {\n",
       "        text-align: right;\n",
       "    }\n",
       "\n",
       "    .dataframe thead th {\n",
       "        text-align: left;\n",
       "    }\n",
       "\n",
       "    .dataframe tbody tr th {\n",
       "        vertical-align: top;\n",
       "    }\n",
       "</style>\n",
       "<table border=\"1\" class=\"dataframe\">\n",
       "  <thead>\n",
       "    <tr style=\"text-align: right;\">\n",
       "      <th></th>\n",
       "      <th>id</th>\n",
       "      <th>label</th>\n",
       "      <th>actual_id</th>\n",
       "      <th>Filename</th>\n",
       "    </tr>\n",
       "  </thead>\n",
       "  <tbody>\n",
       "    <tr>\n",
       "      <th>0</th>\n",
       "      <td>1</td>\n",
       "      <td>P</td>\n",
       "      <td>1</td>\n",
       "      <td>11-14-2014-320-G.csv</td>\n",
       "    </tr>\n",
       "    <tr>\n",
       "      <th>313784</th>\n",
       "      <td>2</td>\n",
       "      <td>C</td>\n",
       "      <td>2</td>\n",
       "      <td>11-14-2014-320-G.csv</td>\n",
       "    </tr>\n",
       "    <tr>\n",
       "      <th>3067441</th>\n",
       "      <td>3</td>\n",
       "      <td>C</td>\n",
       "      <td>3</td>\n",
       "      <td>11-14-2014-320-G.csv</td>\n",
       "    </tr>\n",
       "    <tr>\n",
       "      <th>5025970</th>\n",
       "      <td>4</td>\n",
       "      <td>C</td>\n",
       "      <td>4</td>\n",
       "      <td>11-14-2014-320-G.csv</td>\n",
       "    </tr>\n",
       "    <tr>\n",
       "      <th>7463963</th>\n",
       "      <td>5</td>\n",
       "      <td>A</td>\n",
       "      <td>5</td>\n",
       "      <td>11-14-2014-320-G.csv</td>\n",
       "    </tr>\n",
       "  </tbody>\n",
       "</table>\n",
       "</div>"
      ],
      "text/plain": [
       "         id label  actual_id              Filename\n",
       "0         1     P          1  11-14-2014-320-G.csv\n",
       "313784    2     C          2  11-14-2014-320-G.csv\n",
       "3067441   3     C          3  11-14-2014-320-G.csv\n",
       "5025970   4    C           4  11-14-2014-320-G.csv\n",
       "7463963   5     A          5  11-14-2014-320-G.csv"
      ]
     },
     "execution_count": 26,
     "metadata": {},
     "output_type": "execute_result"
    }
   ],
   "source": [
    "file_list.head()"
   ]
  },
  {
   "cell_type": "code",
   "execution_count": 27,
   "metadata": {},
   "outputs": [
    {
     "data": {
      "text/html": [
       "<div>\n",
       "<style>\n",
       "    .dataframe thead tr:only-child th {\n",
       "        text-align: right;\n",
       "    }\n",
       "\n",
       "    .dataframe thead th {\n",
       "        text-align: left;\n",
       "    }\n",
       "\n",
       "    .dataframe tbody tr th {\n",
       "        vertical-align: top;\n",
       "    }\n",
       "</style>\n",
       "<table border=\"1\" class=\"dataframe\">\n",
       "  <thead>\n",
       "    <tr style=\"text-align: right;\">\n",
       "      <th></th>\n",
       "      <th>actual_id</th>\n",
       "      <th>Filename</th>\n",
       "    </tr>\n",
       "  </thead>\n",
       "  <tbody>\n",
       "    <tr>\n",
       "      <th>0</th>\n",
       "      <td>1</td>\n",
       "      <td>11-14-2014-320-G.csv</td>\n",
       "    </tr>\n",
       "  </tbody>\n",
       "</table>\n",
       "</div>"
      ],
      "text/plain": [
       "   actual_id              Filename\n",
       "0          1  11-14-2014-320-G.csv"
      ]
     },
     "execution_count": 27,
     "metadata": {},
     "output_type": "execute_result"
    }
   ],
   "source": [
    "file_list.loc[file_list['id']==1,[\"actual_id\",\"Filename\"]]"
   ]
  },
  {
   "cell_type": "code",
   "execution_count": null,
   "metadata": {
    "collapsed": true
   },
   "outputs": [],
   "source": [
    "# Print Time series graphs\n",
    "import matplotlib\n",
    "#pdf_doc = matplotlib.backends.backend_pdf.PdfPages('A-plots.pdf')\n",
    "for i in id_values:\n",
    "    if data[data.id == i].label.unique()[0] == 'P':\n",
    "        data[(data['id'] == i)][['time', 'P1', 'P2']].plot(x='time', title=\"Label at: \"+str(file_list.loc[file_list['id']==i,[\"actual_id\",\"Filename\"]])+\n",
    "                                                      \"--\"+data[data.id == i].label.unique()[0], figsize=(12, 6));\n",
    "        \n",
    "        #pdf_doc.savefig(sub_data_plot.get_figure())\n",
    "        \n",
    "#pdf_doc.close()"
   ]
  },
  {
   "cell_type": "code",
   "execution_count": null,
   "metadata": {
    "collapsed": true
   },
   "outputs": [],
   "source": [
    "t = data[(data['id'] == 1)][['time', 'P1', 'P2']].plot(x='time', title=\"Label at: \"+str(file_list.loc[file_list['id']==1,[\"actual_id\",\"Filename\"]])+\n",
    "                                                      \"--\"+data[data.id == i].label.unique()[0], figsize=(12, 6));"
   ]
  },
  {
   "cell_type": "code",
   "execution_count": null,
   "metadata": {
    "collapsed": true
   },
   "outputs": [],
   "source": [
    "t"
   ]
  },
  {
   "cell_type": "code",
   "execution_count": 34,
   "metadata": {
    "collapsed": true
   },
   "outputs": [],
   "source": [
    "extraction_settings = ComprehensiveFCParameters()"
   ]
  },
  {
   "cell_type": "code",
   "execution_count": 35,
   "metadata": {},
   "outputs": [
    {
     "data": {
      "text/plain": [
       "array([  1,   2,   3,   4,   5,   6,   7,   8,   9,  10,  11,  12,  13,\n",
       "        14,  15,  16,  17,  18,  19,  20,  21,  22,  23,  24,  25,  26,\n",
       "        28,  29,  30,  31,  32,  33,  34,  35,  41,  42,  43,  44,  45,\n",
       "        46,  47,  48,  49,  50,  51,  52,  53,  56,  57,  58,  59,  60,\n",
       "        61,  62,  63,  64,  65,  66,  67,  68,  69,  70,  71,  72,  77,\n",
       "        78,  79,  80,  81,  82,  83,  84,  85,  86,  87,  88,  89,  90,\n",
       "        91,  92,  95,  96,  97,  98,  99, 100, 101, 102, 103, 104, 105,\n",
       "       106, 107, 108, 110, 111, 112, 113, 114, 116, 117, 118, 119, 120,\n",
       "       121, 122, 123, 124, 125, 126, 127, 128, 130, 131, 132, 133, 134,\n",
       "       135, 136, 137, 138, 139, 140, 141, 142, 143, 144, 145, 146, 147,\n",
       "       149, 150, 151, 152, 153, 154, 155, 156, 157, 158, 159, 160, 161,\n",
       "       162, 163, 164, 165, 166, 167, 168, 170, 171, 172, 174, 175, 176,\n",
       "       177, 178, 179, 180, 181, 182, 183, 184, 185, 186, 187, 188, 189,\n",
       "       190, 191, 192, 193, 195, 196, 197, 198, 199, 200, 201, 202, 203,\n",
       "       204, 205, 206, 207, 208, 209, 210, 211, 212, 214, 215, 216, 217,\n",
       "       218, 219, 220, 221, 222, 223, 224, 225, 226, 227, 228, 229, 230,\n",
       "       231, 232, 233, 234, 235, 236, 238, 239, 240, 241, 242, 243, 244,\n",
       "       245, 246, 247, 248, 249, 250, 251, 252, 253, 254, 255, 268, 269,\n",
       "       270, 271, 272, 273, 274, 275, 276, 278, 279, 280, 281, 282, 283,\n",
       "       284, 285, 286, 287, 288, 289, 290, 291, 292, 293, 294, 295, 297,\n",
       "       298, 299, 300, 301, 302, 303, 304, 305, 306, 307, 308, 309, 310,\n",
       "       311, 312, 313, 314, 315, 316, 318, 319, 320, 321, 322, 323, 324,\n",
       "       325, 326, 327, 328, 330, 331, 332, 333, 334, 335, 336, 337, 338,\n",
       "       339, 341, 342, 343, 344, 345, 346, 347, 348, 349, 350, 351, 352,\n",
       "       353, 354, 355, 379, 380, 381, 382, 383, 384, 385, 386, 387, 388,\n",
       "       389, 390, 391, 392, 393, 394, 395, 397, 398, 399, 400, 401, 402,\n",
       "       404, 405, 406, 407, 408, 409, 410, 411, 412, 413, 414, 415, 417,\n",
       "       418, 419, 420, 591, 592, 593, 594, 595, 596, 597, 598, 599, 600,\n",
       "       601, 602, 603, 604, 605])"
      ]
     },
     "execution_count": 35,
     "metadata": {},
     "output_type": "execute_result"
    }
   ],
   "source": [
    "data = data[data.label != 'IG']\n",
    "data_input = data[['time','P1','P2','id']]\n",
    "data_input.id.unique()"
   ]
  },
  {
   "cell_type": "code",
   "execution_count": 36,
   "metadata": {},
   "outputs": [
    {
     "name": "stderr",
     "output_type": "stream",
     "text": [
      "/home/sreeaurovindh/.pyenv/versions/3.6.0/envs/general/lib/python3.6/site-packages/pandas/core/indexing.py:517: SettingWithCopyWarning: \n",
      "A value is trying to be set on a copy of a slice from a DataFrame.\n",
      "Try using .loc[row_indexer,col_indexer] = value instead\n",
      "\n",
      "See the caveats in the documentation: http://pandas.pydata.org/pandas-docs/stable/indexing.html#indexing-view-versus-copy\n",
      "  self.obj[item] = s\n"
     ]
    }
   ],
   "source": [
    "# Fix minor label issues with data\n",
    "data.at[data.label=='C ','label'] = 'C'\n",
    "data.at[data.label=='A  ','label'] = 'A'"
   ]
  },
  {
   "cell_type": "code",
   "execution_count": 37,
   "metadata": {
    "collapsed": true
   },
   "outputs": [],
   "source": [
    "data_label = data[['label','id']]\n",
    "data_label = data_label.drop_duplicates()['label']"
   ]
  },
  {
   "cell_type": "code",
   "execution_count": 38,
   "metadata": {},
   "outputs": [
    {
     "data": {
      "text/plain": [
       "C    175\n",
       "A    143\n",
       "P     51\n",
       "Name: label, dtype: int64"
      ]
     },
     "execution_count": 38,
     "metadata": {},
     "output_type": "execute_result"
    }
   ],
   "source": [
    "pd.Series(data_label).value_counts()"
   ]
  },
  {
   "cell_type": "code",
   "execution_count": 39,
   "metadata": {
    "collapsed": true
   },
   "outputs": [],
   "source": [
    "data_label = data_label.as_matrix().flatten()"
   ]
  },
  {
   "cell_type": "code",
   "execution_count": 40,
   "metadata": {},
   "outputs": [
    {
     "name": "stderr",
     "output_type": "stream",
     "text": [
      "Feature Extraction: 100%|██████████| 738/738 [16:47<00:00,  1.37s/it]   \n",
      "WARNING:tsfresh.utilities.dataframe_functions:The columns ['P1__friedrich_coefficients__m_3__r_30__coeff_0'\n",
      " 'P1__friedrich_coefficients__m_3__r_30__coeff_1'\n",
      " 'P1__friedrich_coefficients__m_3__r_30__coeff_2'\n",
      " 'P1__friedrich_coefficients__m_3__r_30__coeff_3'\n",
      " 'P1__max_langevin_fixed_point__m_3__r_30'\n",
      " 'P2__friedrich_coefficients__m_3__r_30__coeff_0'\n",
      " 'P2__friedrich_coefficients__m_3__r_30__coeff_1'\n",
      " 'P2__friedrich_coefficients__m_3__r_30__coeff_2'\n",
      " 'P2__friedrich_coefficients__m_3__r_30__coeff_3'\n",
      " 'P2__max_langevin_fixed_point__m_3__r_30'] did not have any finite values. Filling with zeros.\n"
     ]
    }
   ],
   "source": [
    "X = extract_features(data_input, \n",
    "                     column_id='id', column_sort='time',\n",
    "                     default_fc_parameters=extraction_settings,\n",
    "                     impute_function= impute)"
   ]
  },
  {
   "cell_type": "code",
   "execution_count": 41,
   "metadata": {},
   "outputs": [
    {
     "name": "stdout",
     "output_type": "stream",
     "text": [
      "<class 'pandas.core.frame.DataFrame'>\n",
      "Int64Index: 369 entries, 1 to 605\n",
      "Columns: 1576 entries, P1__abs_energy to P2__variance_larger_than_standard_deviation\n",
      "dtypes: float64(1576)\n",
      "memory usage: 4.4 MB\n"
     ]
    }
   ],
   "source": [
    "X.info()"
   ]
  },
  {
   "cell_type": "code",
   "execution_count": null,
   "metadata": {
    "collapsed": true
   },
   "outputs": [],
   "source": [
    "X.shape"
   ]
  },
  {
   "cell_type": "code",
   "execution_count": 104,
   "metadata": {},
   "outputs": [
    {
     "name": "stderr",
     "output_type": "stream",
     "text": [
      "Feature Extraction: 100%|██████████| 738/738 [17:46<00:00,  1.44s/it]   \n",
      "WARNING:tsfresh.utilities.dataframe_functions:The columns ['P1__friedrich_coefficients__m_3__r_30__coeff_0'\n",
      " 'P1__friedrich_coefficients__m_3__r_30__coeff_1'\n",
      " 'P1__friedrich_coefficients__m_3__r_30__coeff_2'\n",
      " 'P1__friedrich_coefficients__m_3__r_30__coeff_3'\n",
      " 'P1__max_langevin_fixed_point__m_3__r_30'\n",
      " 'P2__friedrich_coefficients__m_3__r_30__coeff_0'\n",
      " 'P2__friedrich_coefficients__m_3__r_30__coeff_1'\n",
      " 'P2__friedrich_coefficients__m_3__r_30__coeff_2'\n",
      " 'P2__friedrich_coefficients__m_3__r_30__coeff_3'\n",
      " 'P2__max_langevin_fixed_point__m_3__r_30'] did not have any finite values. Filling with zeros.\n",
      "WARNING:tsfresh.feature_selection.relevance:Infered classification as machine learning task\n",
      "WARNING:tsfresh.feature_selection.relevance:[test_feature_significance] Feature P1__change_quantiles__f_agg_\"mean\"__isabs_False__qh_0.2__ql_0.0 is constant\n",
      "WARNING:tsfresh.feature_selection.relevance:[test_feature_significance] Feature P1__change_quantiles__f_agg_\"mean\"__isabs_True__qh_0.2__ql_0.8 is constant\n",
      "WARNING:tsfresh.feature_selection.relevance:[test_feature_significance] Feature P1__change_quantiles__f_agg_\"mean\"__isabs_False__qh_0.8__ql_0.8 is constant\n",
      "WARNING:tsfresh.feature_selection.relevance:[test_feature_significance] Feature P1__change_quantiles__f_agg_\"mean\"__isabs_False__qh_0.2__ql_0.2 is constant\n",
      "WARNING:tsfresh.feature_selection.relevance:[test_feature_significance] Feature P1__change_quantiles__f_agg_\"mean\"__isabs_True__qh_0.2__ql_0.0 is constant\n",
      "WARNING:tsfresh.feature_selection.relevance:[test_feature_significance] Feature P1__change_quantiles__f_agg_\"mean\"__isabs_False__qh_0.2__ql_0.4 is constant\n",
      "WARNING:tsfresh.feature_selection.relevance:[test_feature_significance] Feature P1__change_quantiles__f_agg_\"mean\"__isabs_False__qh_0.2__ql_0.6 is constant\n",
      "WARNING:tsfresh.feature_selection.relevance:[test_feature_significance] Feature P1__change_quantiles__f_agg_\"mean\"__isabs_True__qh_0.2__ql_0.2 is constant\n",
      "WARNING:tsfresh.feature_selection.relevance:[test_feature_significance] Feature P1__change_quantiles__f_agg_\"mean\"__isabs_True__qh_0.2__ql_0.4 is constant\n",
      "WARNING:tsfresh.feature_selection.relevance:[test_feature_significance] Feature P1__change_quantiles__f_agg_\"mean\"__isabs_True__qh_0.2__ql_0.6 is constant\n",
      "WARNING:tsfresh.feature_selection.relevance:[test_feature_significance] Feature P1__change_quantiles__f_agg_\"mean\"__isabs_False__qh_0.2__ql_0.8 is constant\n",
      "WARNING:tsfresh.feature_selection.relevance:[test_feature_significance] Feature P1__change_quantiles__f_agg_\"mean\"__isabs_False__qh_0.4__ql_0.0 is constant\n",
      "WARNING:tsfresh.feature_selection.relevance:[test_feature_significance] Feature P1__change_quantiles__f_agg_\"mean\"__isabs_False__qh_0.4__ql_0.2 is constant\n",
      "WARNING:tsfresh.feature_selection.relevance:[test_feature_significance] Feature P1__change_quantiles__f_agg_\"mean\"__isabs_False__qh_0.4__ql_0.4 is constant\n",
      "WARNING:tsfresh.feature_selection.relevance:[test_feature_significance] Feature P1__change_quantiles__f_agg_\"mean\"__isabs_False__qh_0.4__ql_0.6 is constant\n",
      "WARNING:tsfresh.feature_selection.relevance:[test_feature_significance] Feature P1__fft_coefficient__coeff_0__attr_\"angle\" is constant\n",
      "WARNING:tsfresh.feature_selection.relevance:[test_feature_significance] Feature P1__change_quantiles__f_agg_\"mean\"__isabs_True__qh_0.4__ql_0.0 is constant\n",
      "WARNING:tsfresh.feature_selection.relevance:[test_feature_significance] Feature P1__change_quantiles__f_agg_\"mean\"__isabs_False__qh_0.4__ql_0.8 is constant\n",
      "WARNING:tsfresh.feature_selection.relevance:[test_feature_significance] Feature P1__change_quantiles__f_agg_\"mean\"__isabs_True__qh_0.4__ql_0.2 is constant\n",
      "WARNING:tsfresh.feature_selection.relevance:[test_feature_significance] Feature P1__fft_coefficient__coeff_0__attr_\"imag\" is constant\n",
      "WARNING:tsfresh.feature_selection.relevance:[test_feature_significance] Feature P1__change_quantiles__f_agg_\"mean\"__isabs_False__qh_0.6__ql_0.6 is constant\n",
      "WARNING:tsfresh.feature_selection.relevance:[test_feature_significance] Feature P1__change_quantiles__f_agg_\"mean\"__isabs_True__qh_0.4__ql_0.4 is constant\n",
      "WARNING:tsfresh.feature_selection.relevance:[test_feature_significance] Feature P1__change_quantiles__f_agg_\"mean\"__isabs_False__qh_0.6__ql_0.8 is constant\n",
      "WARNING:tsfresh.feature_selection.relevance:[test_feature_significance] Feature P1__change_quantiles__f_agg_\"mean\"__isabs_True__qh_0.4__ql_0.6 is constant\n",
      "WARNING:tsfresh.feature_selection.relevance:[test_feature_significance] Feature P1__change_quantiles__f_agg_\"mean\"__isabs_True__qh_0.4__ql_0.8 is constant\n",
      "WARNING:tsfresh.feature_selection.relevance:[test_feature_significance] Feature P1__change_quantiles__f_agg_\"mean\"__isabs_True__qh_0.6__ql_0.6 is constant\n",
      "WARNING:tsfresh.feature_selection.relevance:[test_feature_significance] Feature P1__change_quantiles__f_agg_\"mean\"__isabs_True__qh_0.6__ql_0.8 is constant\n",
      "WARNING:tsfresh.feature_selection.relevance:[test_feature_significance] Feature P1__change_quantiles__f_agg_\"mean\"__isabs_True__qh_0.8__ql_0.8 is constant\n",
      "WARNING:tsfresh.feature_selection.relevance:[test_feature_significance] Feature P1__change_quantiles__f_agg_\"var\"__isabs_False__qh_0.2__ql_0.6 is constant\n",
      "WARNING:tsfresh.feature_selection.relevance:[test_feature_significance] Feature P1__change_quantiles__f_agg_\"var\"__isabs_False__qh_0.2__ql_0.0 is constant\n",
      "WARNING:tsfresh.feature_selection.relevance:[test_feature_significance] Feature P1__change_quantiles__f_agg_\"var\"__isabs_False__qh_0.2__ql_0.2 is constant\n",
      "WARNING:tsfresh.feature_selection.relevance:[test_feature_significance] Feature P1__change_quantiles__f_agg_\"var\"__isabs_False__qh_0.2__ql_0.4 is constant\n",
      "WARNING:tsfresh.feature_selection.relevance:[test_feature_significance] Feature P1__change_quantiles__f_agg_\"var\"__isabs_False__qh_0.2__ql_0.8 is constant\n",
      "WARNING:tsfresh.feature_selection.relevance:[test_feature_significance] Feature P1__change_quantiles__f_agg_\"var\"__isabs_False__qh_0.6__ql_0.6 is constant\n",
      "WARNING:tsfresh.feature_selection.relevance:[test_feature_significance] Feature P1__change_quantiles__f_agg_\"var\"__isabs_False__qh_0.4__ql_0.0 is constant\n",
      "WARNING:tsfresh.feature_selection.relevance:[test_feature_significance] Feature P1__change_quantiles__f_agg_\"var\"__isabs_False__qh_0.4__ql_0.2 is constant\n",
      "WARNING:tsfresh.feature_selection.relevance:[test_feature_significance] Feature P1__friedrich_coefficients__m_3__r_30__coeff_0 is constant\n",
      "WARNING:tsfresh.feature_selection.relevance:[test_feature_significance] Feature P1__change_quantiles__f_agg_\"var\"__isabs_False__qh_0.4__ql_0.4 is constant\n",
      "WARNING:tsfresh.feature_selection.relevance:[test_feature_significance] Feature P1__friedrich_coefficients__m_3__r_30__coeff_1 is constant\n",
      "WARNING:tsfresh.feature_selection.relevance:[test_feature_significance] Feature P1__change_quantiles__f_agg_\"var\"__isabs_False__qh_0.4__ql_0.6 is constant\n",
      "WARNING:tsfresh.feature_selection.relevance:[test_feature_significance] Feature P1__friedrich_coefficients__m_3__r_30__coeff_2 is constant\n",
      "WARNING:tsfresh.feature_selection.relevance:[test_feature_significance] Feature P1__change_quantiles__f_agg_\"var\"__isabs_False__qh_0.4__ql_0.8 is constant\n",
      "WARNING:tsfresh.feature_selection.relevance:[test_feature_significance] Feature P1__change_quantiles__f_agg_\"var\"__isabs_False__qh_0.6__ql_0.8 is constant\n",
      "WARNING:tsfresh.feature_selection.relevance:[test_feature_significance] Feature P1__max_langevin_fixed_point__m_3__r_30 is constant\n",
      "WARNING:tsfresh.feature_selection.relevance:[test_feature_significance] Feature P1__friedrich_coefficients__m_3__r_30__coeff_3 is constant\n",
      "WARNING:tsfresh.feature_selection.relevance:[test_feature_significance] Feature P1__change_quantiles__f_agg_\"var\"__isabs_False__qh_0.8__ql_0.8 is constant\n",
      "WARNING:tsfresh.feature_selection.relevance:[test_feature_significance] Feature P1__change_quantiles__f_agg_\"var\"__isabs_True__qh_0.2__ql_0.0 is constant\n",
      "WARNING:tsfresh.feature_selection.relevance:[test_feature_significance] Feature P1__mean_second_derivate_central is constant\n",
      "WARNING:tsfresh.feature_selection.relevance:[test_feature_significance] Feature P1__minimum is constant\n",
      "WARNING:tsfresh.feature_selection.relevance:[test_feature_significance] Feature P1__change_quantiles__f_agg_\"var\"__isabs_True__qh_0.2__ql_0.2 is constant\n"
     ]
    },
    {
     "name": "stderr",
     "output_type": "stream",
     "text": [
      "WARNING:tsfresh.feature_selection.relevance:[test_feature_significance] Feature P1__number_crossing_m__m_-1 is constant\n",
      "WARNING:tsfresh.feature_selection.relevance:[test_feature_significance] Feature P1__has_duplicate is constant\n",
      "WARNING:tsfresh.feature_selection.relevance:[test_feature_significance] Feature P1__number_crossing_m__m_0 is constant\n",
      "WARNING:tsfresh.feature_selection.relevance:[test_feature_significance] Feature P1__has_duplicate_max is constant\n",
      "WARNING:tsfresh.feature_selection.relevance:[test_feature_significance] Feature P1__change_quantiles__f_agg_\"var\"__isabs_True__qh_0.2__ql_0.4 is constant\n",
      "WARNING:tsfresh.feature_selection.relevance:[test_feature_significance] Feature P1__number_crossing_m__m_1 is constant\n",
      "WARNING:tsfresh.feature_selection.relevance:[test_feature_significance] Feature P1__has_duplicate_min is constant\n",
      "WARNING:tsfresh.feature_selection.relevance:[test_feature_significance] Feature P1__change_quantiles__f_agg_\"var\"__isabs_True__qh_0.2__ql_0.6 is constant\n",
      "WARNING:tsfresh.feature_selection.relevance:[test_feature_significance] Feature P2__change_quantiles__f_agg_\"mean\"__isabs_False__qh_0.2__ql_0.0 is constant\n",
      "WARNING:tsfresh.feature_selection.relevance:[test_feature_significance] Feature P1__change_quantiles__f_agg_\"var\"__isabs_True__qh_0.2__ql_0.8 is constant\n",
      "WARNING:tsfresh.feature_selection.relevance:[test_feature_significance] Feature P2__change_quantiles__f_agg_\"mean\"__isabs_False__qh_0.2__ql_0.2 is constant\n",
      "WARNING:tsfresh.feature_selection.relevance:[test_feature_significance] Feature P1__change_quantiles__f_agg_\"var\"__isabs_True__qh_0.4__ql_0.0 is constant\n",
      "WARNING:tsfresh.feature_selection.relevance:[test_feature_significance] Feature P1__number_peaks__n_1 is constant\n",
      "WARNING:tsfresh.feature_selection.relevance:[test_feature_significance] Feature P2__change_quantiles__f_agg_\"mean\"__isabs_False__qh_0.2__ql_0.4 is constant\n",
      "WARNING:tsfresh.feature_selection.relevance:[test_feature_significance] Feature P1__number_peaks__n_10 is constant\n",
      "WARNING:tsfresh.feature_selection.relevance:[test_feature_significance] Feature P1__change_quantiles__f_agg_\"var\"__isabs_True__qh_0.4__ql_0.2 is constant\n",
      "WARNING:tsfresh.feature_selection.relevance:[test_feature_significance] Feature P1__change_quantiles__f_agg_\"var\"__isabs_True__qh_0.4__ql_0.4 is constant\n",
      "WARNING:tsfresh.feature_selection.relevance:[test_feature_significance] Feature P2__change_quantiles__f_agg_\"mean\"__isabs_False__qh_0.2__ql_0.6 is constant\n",
      "WARNING:tsfresh.feature_selection.relevance:[test_feature_significance] Feature P1__number_peaks__n_3 is constant\n",
      "WARNING:tsfresh.feature_selection.relevance:[test_feature_significance] Feature P1__change_quantiles__f_agg_\"var\"__isabs_True__qh_0.4__ql_0.6 is constant\n",
      "WARNING:tsfresh.feature_selection.relevance:[test_feature_significance] Feature P1__large_standard_deviation__r_0.5 is constant\n",
      "WARNING:tsfresh.feature_selection.relevance:[test_feature_significance] Feature P1__number_peaks__n_5 is constant\n",
      "WARNING:tsfresh.feature_selection.relevance:[test_feature_significance] Feature P2__change_quantiles__f_agg_\"mean\"__isabs_False__qh_0.2__ql_0.8 is constant\n",
      "WARNING:tsfresh.feature_selection.relevance:[test_feature_significance] Feature P1__change_quantiles__f_agg_\"var\"__isabs_True__qh_0.4__ql_0.8 is constant\n",
      "WARNING:tsfresh.feature_selection.relevance:[test_feature_significance] Feature P1__number_peaks__n_50 is constant\n",
      "WARNING:tsfresh.feature_selection.relevance:[test_feature_significance] Feature P2__change_quantiles__f_agg_\"mean\"__isabs_False__qh_0.4__ql_0.0 is constant\n",
      "WARNING:tsfresh.feature_selection.relevance:[test_feature_significance] Feature P1__large_standard_deviation__r_0.55 is constant\n",
      "WARNING:tsfresh.feature_selection.relevance:[test_feature_significance] Feature P1__change_quantiles__f_agg_\"var\"__isabs_True__qh_0.6__ql_0.6 is constant\n",
      "WARNING:tsfresh.feature_selection.relevance:[test_feature_significance] Feature P2__change_quantiles__f_agg_\"mean\"__isabs_False__qh_0.4__ql_0.2 is constant\n",
      "WARNING:tsfresh.feature_selection.relevance:[test_feature_significance] Feature P1__large_standard_deviation__r_0.6000000000000001 is constant\n",
      "WARNING:tsfresh.feature_selection.relevance:[test_feature_significance] Feature P2__change_quantiles__f_agg_\"mean\"__isabs_False__qh_0.4__ql_0.4 is constant\n",
      "WARNING:tsfresh.feature_selection.relevance:[test_feature_significance] Feature P1__change_quantiles__f_agg_\"var\"__isabs_True__qh_0.6__ql_0.8 is constant\n",
      "WARNING:tsfresh.feature_selection.relevance:[test_feature_significance] Feature P1__large_standard_deviation__r_0.65 is constant\n",
      "WARNING:tsfresh.feature_selection.relevance:[test_feature_significance] Feature P2__change_quantiles__f_agg_\"mean\"__isabs_False__qh_0.4__ql_0.6 is constant\n",
      "WARNING:tsfresh.feature_selection.relevance:[test_feature_significance] Feature P1__change_quantiles__f_agg_\"var\"__isabs_True__qh_0.8__ql_0.8 is constant\n",
      "WARNING:tsfresh.feature_selection.relevance:[test_feature_significance] Feature P1__large_standard_deviation__r_0.7000000000000001 is constant\n",
      "WARNING:tsfresh.feature_selection.relevance:[test_feature_significance] Feature P2__change_quantiles__f_agg_\"mean\"__isabs_False__qh_0.4__ql_0.8 is constant\n",
      "WARNING:tsfresh.feature_selection.relevance:[test_feature_significance] Feature P1__partial_autocorrelation__lag_0 is constant\n",
      "WARNING:tsfresh.feature_selection.relevance:[test_feature_significance] Feature P2__change_quantiles__f_agg_\"mean\"__isabs_False__qh_0.6__ql_0.6 is constant\n",
      "WARNING:tsfresh.feature_selection.relevance:[test_feature_significance] Feature P2__change_quantiles__f_agg_\"mean\"__isabs_True__qh_0.2__ql_0.2 is constant\n",
      "WARNING:tsfresh.feature_selection.relevance:[test_feature_significance] Feature P1__large_standard_deviation__r_0.75 is constant\n",
      "WARNING:tsfresh.feature_selection.relevance:[test_feature_significance] Feature P1__percentage_of_reoccurring_datapoints_to_all_datapoints is constant\n",
      "WARNING:tsfresh.feature_selection.relevance:[test_feature_significance] Feature P1__large_standard_deviation__r_0.8 is constant\n",
      "WARNING:tsfresh.feature_selection.relevance:[test_feature_significance] Feature P1__large_standard_deviation__r_0.8500000000000001 is constant\n",
      "WARNING:tsfresh.feature_selection.relevance:[test_feature_significance] Feature P1__percentage_of_reoccurring_values_to_all_values is constant\n",
      "WARNING:tsfresh.feature_selection.relevance:[test_feature_significance] Feature P1__large_standard_deviation__r_0.9 is constant\n",
      "WARNING:tsfresh.feature_selection.relevance:[test_feature_significance] Feature P1__quantile__q_0.1 is constant\n",
      "WARNING:tsfresh.feature_selection.relevance:[test_feature_significance] Feature P1__large_standard_deviation__r_0.9500000000000001 is constant\n",
      "WARNING:tsfresh.feature_selection.relevance:[test_feature_significance] Feature P1__quantile__q_0.2 is constant\n",
      "WARNING:tsfresh.feature_selection.relevance:[test_feature_significance] Feature P2__change_quantiles__f_agg_\"mean\"__isabs_False__qh_0.6__ql_0.8 is constant\n",
      "WARNING:tsfresh.feature_selection.relevance:[test_feature_significance] Feature P1__quantile__q_0.3 is constant\n",
      "WARNING:tsfresh.feature_selection.relevance:[test_feature_significance] Feature P2__change_quantiles__f_agg_\"mean\"__isabs_False__qh_0.8__ql_0.8 is constant\n",
      "WARNING:tsfresh.feature_selection.relevance:[test_feature_significance] Feature P1__quantile__q_0.4 is constant\n",
      "WARNING:tsfresh.feature_selection.relevance:[test_feature_significance] Feature P2__change_quantiles__f_agg_\"mean\"__isabs_True__qh_0.2__ql_0.0 is constant\n",
      "WARNING:tsfresh.feature_selection.relevance:[test_feature_significance] Feature P2__change_quantiles__f_agg_\"mean\"__isabs_True__qh_0.2__ql_0.4 is constant\n",
      "WARNING:tsfresh.feature_selection.relevance:[test_feature_significance] Feature P1__symmetry_looking__r_0.0 is constant\n",
      "WARNING:tsfresh.feature_selection.relevance:[test_feature_significance] Feature P2__change_quantiles__f_agg_\"mean\"__isabs_True__qh_0.2__ql_0.6 is constant\n",
      "WARNING:tsfresh.feature_selection.relevance:[test_feature_significance] Feature P2__change_quantiles__f_agg_\"mean\"__isabs_True__qh_0.2__ql_0.8 is constant\n",
      "WARNING:tsfresh.feature_selection.relevance:[test_feature_significance] Feature P2__change_quantiles__f_agg_\"mean\"__isabs_True__qh_0.4__ql_0.0 is constant\n"
     ]
    },
    {
     "name": "stderr",
     "output_type": "stream",
     "text": [
      "WARNING:tsfresh.feature_selection.relevance:[test_feature_significance] Feature P1__value_count__value_-inf is constant\n",
      "WARNING:tsfresh.feature_selection.relevance:[test_feature_significance] Feature P1__value_count__value_inf is constant\n",
      "WARNING:tsfresh.feature_selection.relevance:[test_feature_significance] Feature P1__value_count__value_nan is constant\n",
      "WARNING:tsfresh.feature_selection.relevance:[test_feature_significance] Feature P2__change_quantiles__f_agg_\"mean\"__isabs_True__qh_0.4__ql_0.2 is constant\n",
      "WARNING:tsfresh.feature_selection.relevance:[test_feature_significance] Feature P1__variance_larger_than_standard_deviation is constant\n",
      "WARNING:tsfresh.feature_selection.relevance:[test_feature_significance] Feature P2__change_quantiles__f_agg_\"mean\"__isabs_True__qh_0.4__ql_0.4 is constant\n",
      "WARNING:tsfresh.feature_selection.relevance:[test_feature_significance] Feature P2__fft_coefficient__coeff_0__attr_\"angle\" is constant\n",
      "WARNING:tsfresh.feature_selection.relevance:[test_feature_significance] Feature P2__change_quantiles__f_agg_\"mean\"__isabs_True__qh_0.4__ql_0.6 is constant\n",
      "WARNING:tsfresh.feature_selection.relevance:[test_feature_significance] Feature P2__change_quantiles__f_agg_\"mean\"__isabs_True__qh_0.4__ql_0.8 is constant\n",
      "WARNING:tsfresh.feature_selection.relevance:[test_feature_significance] Feature P2__fft_coefficient__coeff_0__attr_\"imag\" is constant\n",
      "WARNING:tsfresh.feature_selection.relevance:[test_feature_significance] Feature P2__change_quantiles__f_agg_\"mean\"__isabs_True__qh_0.6__ql_0.6 is constant\n",
      "WARNING:tsfresh.feature_selection.relevance:[test_feature_significance] Feature P2__change_quantiles__f_agg_\"mean\"__isabs_True__qh_0.6__ql_0.8 is constant\n",
      "WARNING:tsfresh.feature_selection.relevance:[test_feature_significance] Feature P2__change_quantiles__f_agg_\"mean\"__isabs_True__qh_0.8__ql_0.8 is constant\n",
      "WARNING:tsfresh.feature_selection.relevance:[test_feature_significance] Feature P2__change_quantiles__f_agg_\"var\"__isabs_False__qh_0.2__ql_0.0 is constant\n",
      "WARNING:tsfresh.feature_selection.relevance:[test_feature_significance] Feature P2__change_quantiles__f_agg_\"var\"__isabs_False__qh_0.2__ql_0.2 is constant\n",
      "WARNING:tsfresh.feature_selection.relevance:[test_feature_significance] Feature P2__change_quantiles__f_agg_\"var\"__isabs_False__qh_0.2__ql_0.4 is constant\n",
      "WARNING:tsfresh.feature_selection.relevance:[test_feature_significance] Feature P2__change_quantiles__f_agg_\"var\"__isabs_False__qh_0.2__ql_0.6 is constant\n",
      "WARNING:tsfresh.feature_selection.relevance:[test_feature_significance] Feature P2__change_quantiles__f_agg_\"var\"__isabs_False__qh_0.2__ql_0.8 is constant\n",
      "WARNING:tsfresh.feature_selection.relevance:[test_feature_significance] Feature P2__change_quantiles__f_agg_\"var\"__isabs_False__qh_0.4__ql_0.0 is constant\n",
      "WARNING:tsfresh.feature_selection.relevance:[test_feature_significance] Feature P2__change_quantiles__f_agg_\"var\"__isabs_False__qh_0.4__ql_0.2 is constant\n",
      "WARNING:tsfresh.feature_selection.relevance:[test_feature_significance] Feature P2__change_quantiles__f_agg_\"var\"__isabs_False__qh_0.4__ql_0.4 is constant\n",
      "WARNING:tsfresh.feature_selection.relevance:[test_feature_significance] Feature P2__change_quantiles__f_agg_\"var\"__isabs_False__qh_0.4__ql_0.6 is constant\n",
      "WARNING:tsfresh.feature_selection.relevance:[test_feature_significance] Feature P2__change_quantiles__f_agg_\"var\"__isabs_False__qh_0.4__ql_0.8 is constant\n",
      "WARNING:tsfresh.feature_selection.relevance:[test_feature_significance] Feature P2__change_quantiles__f_agg_\"var\"__isabs_False__qh_0.6__ql_0.6 is constant\n",
      "WARNING:tsfresh.feature_selection.relevance:[test_feature_significance] Feature P2__change_quantiles__f_agg_\"var\"__isabs_False__qh_0.6__ql_0.8 is constant\n",
      "WARNING:tsfresh.feature_selection.relevance:[test_feature_significance] Feature P2__change_quantiles__f_agg_\"var\"__isabs_False__qh_0.8__ql_0.8 is constant\n",
      "WARNING:tsfresh.feature_selection.relevance:[test_feature_significance] Feature P2__change_quantiles__f_agg_\"var\"__isabs_True__qh_0.2__ql_0.0 is constant\n",
      "WARNING:tsfresh.feature_selection.relevance:[test_feature_significance] Feature P2__change_quantiles__f_agg_\"var\"__isabs_True__qh_0.2__ql_0.2 is constant\n",
      "WARNING:tsfresh.feature_selection.relevance:[test_feature_significance] Feature P2__friedrich_coefficients__m_3__r_30__coeff_0 is constant\n",
      "WARNING:tsfresh.feature_selection.relevance:[test_feature_significance] Feature P2__change_quantiles__f_agg_\"var\"__isabs_True__qh_0.2__ql_0.4 is constant\n",
      "WARNING:tsfresh.feature_selection.relevance:[test_feature_significance] Feature P2__friedrich_coefficients__m_3__r_30__coeff_1 is constant\n",
      "WARNING:tsfresh.feature_selection.relevance:[test_feature_significance] Feature P2__change_quantiles__f_agg_\"var\"__isabs_True__qh_0.2__ql_0.6 is constant\n",
      "WARNING:tsfresh.feature_selection.relevance:[test_feature_significance] Feature P2__friedrich_coefficients__m_3__r_30__coeff_2 is constant\n",
      "WARNING:tsfresh.feature_selection.relevance:[test_feature_significance] Feature P2__change_quantiles__f_agg_\"var\"__isabs_True__qh_0.2__ql_0.8 is constant\n",
      "WARNING:tsfresh.feature_selection.relevance:[test_feature_significance] Feature P2__change_quantiles__f_agg_\"var\"__isabs_True__qh_0.4__ql_0.0 is constant\n",
      "WARNING:tsfresh.feature_selection.relevance:[test_feature_significance] Feature P2__friedrich_coefficients__m_3__r_30__coeff_3 is constant\n",
      "WARNING:tsfresh.feature_selection.relevance:[test_feature_significance] Feature P2__max_langevin_fixed_point__m_3__r_30 is constant\n",
      "WARNING:tsfresh.feature_selection.relevance:[test_feature_significance] Feature P2__change_quantiles__f_agg_\"var\"__isabs_True__qh_0.4__ql_0.2 is constant\n",
      "WARNING:tsfresh.feature_selection.relevance:[test_feature_significance] Feature P2__mean_second_derivate_central is constant\n",
      "WARNING:tsfresh.feature_selection.relevance:[test_feature_significance] Feature P2__has_duplicate is constant\n",
      "WARNING:tsfresh.feature_selection.relevance:[test_feature_significance] Feature P2__change_quantiles__f_agg_\"var\"__isabs_True__qh_0.4__ql_0.4 is constant\n",
      "WARNING:tsfresh.feature_selection.relevance:[test_feature_significance] Feature P2__has_duplicate_max is constant\n",
      "WARNING:tsfresh.feature_selection.relevance:[test_feature_significance] Feature P2__minimum is constant\n",
      "WARNING:tsfresh.feature_selection.relevance:[test_feature_significance] Feature P2__change_quantiles__f_agg_\"var\"__isabs_True__qh_0.4__ql_0.6 is constant\n",
      "WARNING:tsfresh.feature_selection.relevance:[test_feature_significance] Feature P2__has_duplicate_min is constant\n",
      "WARNING:tsfresh.feature_selection.relevance:[test_feature_significance] Feature P2__number_crossing_m__m_-1 is constant\n",
      "WARNING:tsfresh.feature_selection.relevance:[test_feature_significance] Feature P2__change_quantiles__f_agg_\"var\"__isabs_True__qh_0.4__ql_0.8 is constant\n",
      "WARNING:tsfresh.feature_selection.relevance:[test_feature_significance] Feature P2__number_crossing_m__m_0 is constant\n",
      "WARNING:tsfresh.feature_selection.relevance:[test_feature_significance] Feature P2__change_quantiles__f_agg_\"var\"__isabs_True__qh_0.6__ql_0.6 is constant\n",
      "WARNING:tsfresh.feature_selection.relevance:[test_feature_significance] Feature P2__change_quantiles__f_agg_\"var\"__isabs_True__qh_0.6__ql_0.8 is constant\n",
      "WARNING:tsfresh.feature_selection.relevance:[test_feature_significance] Feature P2__large_standard_deviation__r_0.5 is constant\n",
      "WARNING:tsfresh.feature_selection.relevance:[test_feature_significance] Feature P2__number_crossing_m__m_1 is constant\n",
      "WARNING:tsfresh.feature_selection.relevance:[test_feature_significance] Feature P2__large_standard_deviation__r_0.55 is constant\n",
      "WARNING:tsfresh.feature_selection.relevance:[test_feature_significance] Feature P2__change_quantiles__f_agg_\"var\"__isabs_True__qh_0.8__ql_0.8 is constant\n",
      "WARNING:tsfresh.feature_selection.relevance:[test_feature_significance] Feature P2__large_standard_deviation__r_0.6000000000000001 is constant\n",
      "WARNING:tsfresh.feature_selection.relevance:[test_feature_significance] Feature P2__number_peaks__n_1 is constant\n",
      "WARNING:tsfresh.feature_selection.relevance:[test_feature_significance] Feature P2__large_standard_deviation__r_0.65 is constant\n",
      "WARNING:tsfresh.feature_selection.relevance:[test_feature_significance] Feature P2__large_standard_deviation__r_0.7000000000000001 is constant\n"
     ]
    },
    {
     "name": "stderr",
     "output_type": "stream",
     "text": [
      "WARNING:tsfresh.feature_selection.relevance:[test_feature_significance] Feature P2__number_peaks__n_10 is constant\n",
      "WARNING:tsfresh.feature_selection.relevance:[test_feature_significance] Feature P2__large_standard_deviation__r_0.75 is constant\n",
      "WARNING:tsfresh.feature_selection.relevance:[test_feature_significance] Feature P2__number_peaks__n_3 is constant\n",
      "WARNING:tsfresh.feature_selection.relevance:[test_feature_significance] Feature P2__number_peaks__n_5 is constant\n",
      "WARNING:tsfresh.feature_selection.relevance:[test_feature_significance] Feature P2__large_standard_deviation__r_0.8 is constant\n",
      "WARNING:tsfresh.feature_selection.relevance:[test_feature_significance] Feature P2__large_standard_deviation__r_0.8500000000000001 is constant\n",
      "WARNING:tsfresh.feature_selection.relevance:[test_feature_significance] Feature P2__large_standard_deviation__r_0.9 is constant\n",
      "WARNING:tsfresh.feature_selection.relevance:[test_feature_significance] Feature P2__number_peaks__n_50 is constant\n",
      "WARNING:tsfresh.feature_selection.relevance:[test_feature_significance] Feature P2__large_standard_deviation__r_0.9500000000000001 is constant\n",
      "WARNING:tsfresh.feature_selection.relevance:[test_feature_significance] Feature P2__partial_autocorrelation__lag_0 is constant\n",
      "WARNING:tsfresh.feature_selection.relevance:[test_feature_significance] Feature P2__percentage_of_reoccurring_datapoints_to_all_datapoints is constant\n",
      "WARNING:tsfresh.feature_selection.relevance:[test_feature_significance] Feature P2__percentage_of_reoccurring_values_to_all_values is constant\n",
      "WARNING:tsfresh.feature_selection.relevance:[test_feature_significance] Feature P2__quantile__q_0.1 is constant\n",
      "WARNING:tsfresh.feature_selection.relevance:[test_feature_significance] Feature P2__quantile__q_0.2 is constant\n",
      "WARNING:tsfresh.feature_selection.relevance:[test_feature_significance] Feature P2__quantile__q_0.3 is constant\n",
      "WARNING:tsfresh.feature_selection.relevance:[test_feature_significance] Feature P2__quantile__q_0.4 is constant\n",
      "WARNING:tsfresh.feature_selection.relevance:[test_feature_significance] Feature P2__symmetry_looking__r_0.0 is constant\n",
      "WARNING:tsfresh.feature_selection.relevance:[test_feature_significance] Feature P2__value_count__value_-inf is constant\n",
      "WARNING:tsfresh.feature_selection.relevance:[test_feature_significance] Feature P2__value_count__value_inf is constant\n",
      "WARNING:tsfresh.feature_selection.relevance:[test_feature_significance] Feature P2__value_count__value_nan is constant\n",
      "WARNING:tsfresh.feature_selection.relevance:[test_feature_significance] Feature P2__variance_larger_than_standard_deviation is constant\n"
     ]
    }
   ],
   "source": [
    "X_filtered = extract_relevant_features(data_input, data_label, \n",
    "                                       column_id='id', column_sort='time', \n",
    "                                       default_fc_parameters=extraction_settings)"
   ]
  },
  {
   "cell_type": "code",
   "execution_count": 105,
   "metadata": {},
   "outputs": [
    {
     "name": "stdout",
     "output_type": "stream",
     "text": [
      "<class 'pandas.core.frame.DataFrame'>\n",
      "Int64Index: 369 entries, 1 to 605\n",
      "Columns: 477 entries, P1__fft_coefficient__coeff_93__attr_\"abs\" to P1__partial_autocorrelation__lag_8\n",
      "dtypes: float64(477)\n",
      "memory usage: 1.3 MB\n"
     ]
    }
   ],
   "source": [
    "X_filtered.info()"
   ]
  },
  {
   "cell_type": "code",
   "execution_count": 116,
   "metadata": {
    "collapsed": true
   },
   "outputs": [],
   "source": [
    "from sklearn.feature_selection import VarianceThreshold\n",
    "sel = VarianceThreshold(threshold=(.8 * (1 - .8)))\n",
    "new_t = sel.fit_transform(X_filtered)"
   ]
  },
  {
   "cell_type": "code",
   "execution_count": 117,
   "metadata": {
    "scrolled": true
   },
   "outputs": [
    {
     "data": {
      "text/plain": [
       "(525, 305)"
      ]
     },
     "execution_count": 117,
     "metadata": {},
     "output_type": "execute_result"
    }
   ],
   "source": [
    "from sklearn.ensemble import RandomForestClassifier\n",
    "from sklearn import decomposition\n",
    "from sklearn.metrics import confusion_matrix\n",
    "from imblearn.over_sampling import SMOTE\n",
    "\n",
    "\n",
    "sm = SMOTE(random_state=42)\n",
    "X_res, y_res = sm.fit_sample(new_t, data_label)\n",
    "X_res.shape\n",
    "\n",
    "\n",
    "    \n",
    "\n"
   ]
  },
  {
   "cell_type": "code",
   "execution_count": 108,
   "metadata": {},
   "outputs": [
    {
     "data": {
      "text/plain": [
       "A    175\n",
       "P    175\n",
       "C    175\n",
       "dtype: int64"
      ]
     },
     "execution_count": 108,
     "metadata": {},
     "output_type": "execute_result"
    }
   ],
   "source": [
    "import pandas as pd\n",
    "pd.Series(y_res).value_counts()\n"
   ]
  },
  {
   "cell_type": "markdown",
   "metadata": {},
   "source": [
    "## Evaluation of Boomerang Problem With Random Forests having all three predictors"
   ]
  },
  {
   "cell_type": "code",
   "execution_count": 147,
   "metadata": {},
   "outputs": [
    {
     "name": "stdout",
     "output_type": "stream",
     "text": [
      "             precision    recall  f1-score   support\n",
      "\n",
      "          A       0.87      0.76      0.81        45\n",
      "          C       0.71      0.89      0.79        27\n",
      "          P       0.84      0.82      0.83        33\n",
      "\n",
      "avg / total       0.82      0.81      0.81       105\n",
      "\n"
     ]
    },
    {
     "data": {
      "text/plain": [
       "array([[34,  7,  4],\n",
       "       [ 2, 24,  1],\n",
       "       [ 3,  3, 27]])"
      ]
     },
     "execution_count": 147,
     "metadata": {},
     "output_type": "execute_result"
    }
   ],
   "source": [
    "X_train, X_test, y_train, y_test = train_test_split(X_new, y_res, test_size=0.20, random_state=42)\n",
    "\n",
    "\n",
    "\n",
    "\n",
    "\n",
    "\n",
    "forest = RandomForestClassifier(n_estimators=20)\n",
    "\n",
    "forest.fit(X_train,y_train)\n",
    "print(classification_report(y_test, forest.predict(X_test)))\n",
    "predicted = forest.predict(X_test)\n",
    "confusion_matrix(y_test, predicted)"
   ]
  },
  {
   "cell_type": "code",
   "execution_count": 148,
   "metadata": {},
   "outputs": [
    {
     "data": {
      "text/plain": [
       "0.71217105263157898"
      ]
     },
     "execution_count": 148,
     "metadata": {},
     "output_type": "execute_result"
    }
   ],
   "source": [
    "sklearn.metrics.cohen_kappa_score(y_test,predicted)"
   ]
  },
  {
   "cell_type": "markdown",
   "metadata": {},
   "source": [
    "## Evaluation of Boomerangs with A lumped with C"
   ]
  },
  {
   "cell_type": "code",
   "execution_count": 110,
   "metadata": {
    "collapsed": true
   },
   "outputs": [],
   "source": [
    "# Replace C to A\n",
    "y_res[y_res=='A'] = 'C'"
   ]
  },
  {
   "cell_type": "code",
   "execution_count": null,
   "metadata": {
    "collapsed": true
   },
   "outputs": [],
   "source": [
    "y_res"
   ]
  },
  {
   "cell_type": "code",
   "execution_count": 113,
   "metadata": {},
   "outputs": [
    {
     "name": "stdout",
     "output_type": "stream",
     "text": [
      "             precision    recall  f1-score   support\n",
      "\n",
      "          C       0.94      0.94      0.94        36\n",
      "          P       0.88      0.88      0.88        17\n",
      "\n",
      "avg / total       0.92      0.92      0.92        53\n",
      "\n"
     ]
    },
    {
     "data": {
      "text/plain": [
       "array([[34,  2],\n",
       "       [ 2, 15]])"
      ]
     },
     "execution_count": 113,
     "metadata": {},
     "output_type": "execute_result"
    }
   ],
   "source": [
    "X_train, X_test, y_train, y_test = train_test_split(X_new, y_res, test_size=0.10, random_state=42)/\n",
    "\n",
    "forest = RandomForestClassifier(n_estimators=20)\n",
    "\n",
    "forest.fit(X_train,y_train)\n",
    "print(classification_report(y_test, forest.predict(X_test)))\n",
    "predicted =  forest.predict(X_test)\n",
    "confusion_matrix(y_test,predicted)"
   ]
  },
  {
   "cell_type": "code",
   "execution_count": 114,
   "metadata": {},
   "outputs": [
    {
     "data": {
      "text/plain": [
       "0.82679738562091498"
      ]
     },
     "execution_count": 114,
     "metadata": {},
     "output_type": "execute_result"
    }
   ],
   "source": [
    "sklearn.metrics.cohen_kappa_score(y_test,predicted)"
   ]
  },
  {
   "cell_type": "markdown",
   "metadata": {},
   "source": [
    "## Evaluation of Boomerangs with A lumped with P"
   ]
  },
  {
   "cell_type": "code",
   "execution_count": 150,
   "metadata": {
    "collapsed": true
   },
   "outputs": [],
   "source": [
    "# Replace C to A\n",
    "y_res[y_res=='A'] = 'P'"
   ]
  },
  {
   "cell_type": "code",
   "execution_count": 239,
   "metadata": {},
   "outputs": [
    {
     "name": "stdout",
     "output_type": "stream",
     "text": [
      "             precision    recall  f1-score   support\n",
      "\n",
      "          C       0.78      0.88      0.82        16\n",
      "          P       0.94      0.89      0.92        37\n",
      "\n",
      "avg / total       0.89      0.89      0.89        53\n",
      "\n"
     ]
    },
    {
     "data": {
      "text/plain": [
       "array([[14,  2],\n",
       "       [ 4, 33]])"
      ]
     },
     "execution_count": 239,
     "metadata": {},
     "output_type": "execute_result"
    }
   ],
   "source": [
    "X_train, X_test, y_train, y_test = train_test_split(X_new, y_res, test_size=0.10, random_state=42)\n",
    "\n",
    "forest = RandomForestClassifier(n_estimators=20)\n",
    "\n",
    "forest.fit(X_train,y_train)\n",
    "print(classification_report(y_test, forest.predict(X_test)))\n",
    "predicted =  forest.predict(X_test)\n",
    "confusion_matrix(y_test,predicted)"
   ]
  },
  {
   "cell_type": "code",
   "execution_count": 240,
   "metadata": {},
   "outputs": [
    {
     "data": {
      "text/plain": [
       "0.74061990212071782"
      ]
     },
     "execution_count": 240,
     "metadata": {},
     "output_type": "execute_result"
    }
   ],
   "source": [
    "sklearn.metrics.cohen_kappa_score(y_test,predicted)"
   ]
  }
 ],
 "metadata": {
  "kernelspec": {
   "display_name": "Python 3",
   "language": "python",
   "name": "python3"
  },
  "language_info": {
   "codemirror_mode": {
    "name": "ipython",
    "version": 3
   },
   "file_extension": ".py",
   "mimetype": "text/x-python",
   "name": "python",
   "nbconvert_exporter": "python",
   "pygments_lexer": "ipython3",
   "version": "3.6.0"
  }
 },
 "nbformat": 4,
 "nbformat_minor": 2
}
