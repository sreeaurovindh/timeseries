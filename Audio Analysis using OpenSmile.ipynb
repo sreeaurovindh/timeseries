{
 "cells": [
  {
   "cell_type": "markdown",
   "metadata": {},
   "source": [
    "# Boomerang Audio Analysis with OpenSmile Emobase Toolkit"
   ]
  },
  {
   "cell_type": "code",
   "execution_count": 1,
   "metadata": {
    "collapsed": true
   },
   "outputs": [],
   "source": [
    "import pandas as pd\n",
    "import numpy as np\n",
    "import os\n",
    "from sklearn.feature_selection import  SelectKBest"
   ]
  },
  {
   "cell_type": "markdown",
   "metadata": {},
   "source": [
    "### Combine data from Multiple Files"
   ]
  },
  {
   "cell_type": "code",
   "execution_count": 2,
   "metadata": {},
   "outputs": [
    {
     "name": "stdout",
     "output_type": "stream",
     "text": [
      "11-14-2014-1020-G.csv  11-17-2014-1148-G.csv  11-20-2014-300.csv\r\n",
      "11-14-2014-1148-G.csv  11-18-2014-0515.csv    11-21-2014-0315.csv\r\n",
      "11-14-2014-320-G.csv   11-18-2014-1130.csv    11-21-2014-1015.csv\r\n",
      "11-14-2014-540-G.csv   11-18-2014-330.csv     11-21-2014-1145.csv\r\n",
      "11-17-2014-0130-G.csv  11-19-2014-1145.csv    11-21-2014-810AM.csv\r\n",
      "11-17-2014-0600-G.csv  11-19-2014-605.csv\r\n",
      "11-17-2014-1010-G.csv  11-20-2014-0435.csv\r\n"
     ]
    }
   ],
   "source": [
    "!ls ../sox_features/"
   ]
  },
  {
   "cell_type": "code",
   "execution_count": 3,
   "metadata": {
    "collapsed": true
   },
   "outputs": [],
   "source": [
    "directory = '../sox_features/'\n",
    "features_data =  []\n",
    "for element in os.listdir(directory):\n",
    "    data = pd.read_csv(directory+element,index_col=None)\n",
    "    \n",
    "        \n",
    "    features_data.append(data)\n",
    "\n",
    "sox_feature_frame = pd.concat(features_data)\n",
    "    \n",
    "    "
   ]
  },
  {
   "cell_type": "code",
   "execution_count": 4,
   "metadata": {
    "collapsed": true
   },
   "outputs": [],
   "source": [
    "# Sanity Check to see if the columsn match\n",
    "for element in np.where(sox_feature_frame['class_y'] == sox_feature_frame['class_x'],'yes','no') :\n",
    "    if element == 'no':\n",
    "        print('Data Frame ERROR! Do not proceed!')"
   ]
  },
  {
   "cell_type": "code",
   "execution_count": 5,
   "metadata": {
    "collapsed": true
   },
   "outputs": [],
   "source": [
    "columns = ['name_x','name_y','class_x']\n",
    "sox_feature_frame.drop(columns,inplace=True,axis=1)"
   ]
  },
  {
   "cell_type": "code",
   "execution_count": 6,
   "metadata": {
    "collapsed": true
   },
   "outputs": [],
   "source": [
    "# Remove IG Rows from the dataframe\n",
    "\n",
    "sox_feature_frame = sox_feature_frame[sox_feature_frame.class_y != 'IG']"
   ]
  },
  {
   "cell_type": "code",
   "execution_count": 7,
   "metadata": {},
   "outputs": [
    {
     "data": {
      "text/plain": [
       "(369, 1980)"
      ]
     },
     "execution_count": 7,
     "metadata": {},
     "output_type": "execute_result"
    }
   ],
   "source": [
    "sox_feature_frame.shape"
   ]
  },
  {
   "cell_type": "code",
   "execution_count": 8,
   "metadata": {},
   "outputs": [
    {
     "data": {
      "text/plain": [
       "array(['A', 'C', 'P'], dtype=object)"
      ]
     },
     "execution_count": 8,
     "metadata": {},
     "output_type": "execute_result"
    }
   ],
   "source": [
    "labels_distinct =  sox_feature_frame['class_y'].unique()\n",
    "labels_distinct"
   ]
  },
  {
   "cell_type": "code",
   "execution_count": 9,
   "metadata": {
    "collapsed": true
   },
   "outputs": [],
   "source": [
    "labels = sox_feature_frame['class_y']"
   ]
  },
  {
   "cell_type": "code",
   "execution_count": 10,
   "metadata": {
    "collapsed": true
   },
   "outputs": [],
   "source": [
    "sox_feature_frame.drop(['class_y'],inplace=True,axis=1)"
   ]
  },
  {
   "cell_type": "markdown",
   "metadata": {},
   "source": [
    "### Preprocessing\n",
    "\n",
    "Convert all Non-Numeric(String) Labels into Numbers. "
   ]
  },
  {
   "cell_type": "code",
   "execution_count": 11,
   "metadata": {
    "collapsed": true
   },
   "outputs": [],
   "source": [
    "df_labels = pd.DataFrame(labels)\n",
    "label_dummies = pd.get_dummies(df_labels)"
   ]
  },
  {
   "cell_type": "code",
   "execution_count": 12,
   "metadata": {},
   "outputs": [
    {
     "data": {
      "text/html": [
       "<div>\n",
       "<style>\n",
       "    .dataframe thead tr:only-child th {\n",
       "        text-align: right;\n",
       "    }\n",
       "\n",
       "    .dataframe thead th {\n",
       "        text-align: left;\n",
       "    }\n",
       "\n",
       "    .dataframe tbody tr th {\n",
       "        vertical-align: top;\n",
       "    }\n",
       "</style>\n",
       "<table border=\"1\" class=\"dataframe\">\n",
       "  <thead>\n",
       "    <tr style=\"text-align: right;\">\n",
       "      <th></th>\n",
       "      <th>class_y_A</th>\n",
       "      <th>class_y_C</th>\n",
       "      <th>class_y_P</th>\n",
       "    </tr>\n",
       "  </thead>\n",
       "  <tbody>\n",
       "    <tr>\n",
       "      <th>0</th>\n",
       "      <td>1</td>\n",
       "      <td>0</td>\n",
       "      <td>0</td>\n",
       "    </tr>\n",
       "    <tr>\n",
       "      <th>1</th>\n",
       "      <td>1</td>\n",
       "      <td>0</td>\n",
       "      <td>0</td>\n",
       "    </tr>\n",
       "    <tr>\n",
       "      <th>2</th>\n",
       "      <td>0</td>\n",
       "      <td>1</td>\n",
       "      <td>0</td>\n",
       "    </tr>\n",
       "    <tr>\n",
       "      <th>3</th>\n",
       "      <td>1</td>\n",
       "      <td>0</td>\n",
       "      <td>0</td>\n",
       "    </tr>\n",
       "    <tr>\n",
       "      <th>4</th>\n",
       "      <td>0</td>\n",
       "      <td>1</td>\n",
       "      <td>0</td>\n",
       "    </tr>\n",
       "  </tbody>\n",
       "</table>\n",
       "</div>"
      ],
      "text/plain": [
       "   class_y_A  class_y_C  class_y_P\n",
       "0          1          0          0\n",
       "1          1          0          0\n",
       "2          0          1          0\n",
       "3          1          0          0\n",
       "4          0          1          0"
      ]
     },
     "execution_count": 12,
     "metadata": {},
     "output_type": "execute_result"
    }
   ],
   "source": [
    "label_dummies.head()"
   ]
  },
  {
   "cell_type": "markdown",
   "metadata": {},
   "source": [
    "### Feature Selection"
   ]
  },
  {
   "cell_type": "code",
   "execution_count": 126,
   "metadata": {
    "collapsed": true
   },
   "outputs": [],
   "source": [
    "from sklearn.feature_selection import VarianceThreshold\n",
    "sel = VarianceThreshold(threshold=(.8 * (1 - .8)))\n",
    "new_t = sel.fit_transform(sox_feature_frame)"
   ]
  },
  {
   "cell_type": "code",
   "execution_count": 127,
   "metadata": {},
   "outputs": [
    {
     "data": {
      "text/plain": [
       "(369, 894)"
      ]
     },
     "execution_count": 127,
     "metadata": {},
     "output_type": "execute_result"
    }
   ],
   "source": [
    "new_t.shape"
   ]
  },
  {
   "cell_type": "code",
   "execution_count": 444,
   "metadata": {},
   "outputs": [
    {
     "data": {
      "text/plain": [
       "(525, 894)"
      ]
     },
     "execution_count": 444,
     "metadata": {},
     "output_type": "execute_result"
    }
   ],
   "source": [
    "from sklearn.ensemble import RandomForestClassifier\n",
    "from sklearn import decomposition\n",
    "from sklearn.metrics import confusion_matrix\n",
    "from imblearn.over_sampling import SMOTE\n",
    "\n",
    "\n",
    "sm = SMOTE(random_state=42)\n",
    "X_res, y_res = sm.fit_sample(new_t, labels)\n",
    "X_res.shape\n"
   ]
  },
  {
   "cell_type": "code",
   "execution_count": 337,
   "metadata": {},
   "outputs": [
    {
     "data": {
      "text/plain": [
       "A    175\n",
       "P    175\n",
       "C    175\n",
       "dtype: int64"
      ]
     },
     "execution_count": 337,
     "metadata": {},
     "output_type": "execute_result"
    }
   ],
   "source": [
    "import pandas as pd\n",
    "pd.Series(y_res).value_counts()\n"
   ]
  },
  {
   "cell_type": "markdown",
   "metadata": {},
   "source": [
    "### Evaluation of Boomerang Problem with Random Forests having all three Classes"
   ]
  },
  {
   "cell_type": "code",
   "execution_count": 486,
   "metadata": {},
   "outputs": [
    {
     "name": "stdout",
     "output_type": "stream",
     "text": [
      "             precision    recall  f1-score   support\n",
      "\n",
      "          A       0.74      0.79      0.76        33\n",
      "          C       0.87      0.77      0.81        43\n",
      "          P       0.91      1.00      0.95        29\n",
      "\n",
      "avg / total       0.84      0.84      0.84       105\n",
      "\n"
     ]
    },
    {
     "data": {
      "text/plain": [
       "array([[26,  5,  2],\n",
       "       [ 9, 33,  1],\n",
       "       [ 0,  0, 29]])"
      ]
     },
     "execution_count": 486,
     "metadata": {},
     "output_type": "execute_result"
    }
   ],
   "source": [
    "from sklearn.tree import DecisionTreeClassifier\n",
    "from sklearn.cross_validation import train_test_split\n",
    "from sklearn.metrics import classification_report\n",
    "\n",
    "import logging\n",
    "logging.basicConfig(level=logging.WARN)\n",
    "import sklearn.metrics\n",
    "\n",
    "X_train, X_test, y_train, y_test = train_test_split(X_res, y_res, test_size=0.20, random_state=42)\n",
    "\n",
    "forest = RandomForestClassifier(n_estimators=20)\n",
    "\n",
    "forest.fit(X_train,y_train)\n",
    "print(classification_report(y_test, forest.predict(X_test)))\n",
    "predicted = forest.predict(X_test)\n",
    "confusion_matrix(y_test, predicted)\n"
   ]
  },
  {
   "cell_type": "code",
   "execution_count": 487,
   "metadata": {},
   "outputs": [
    {
     "name": "stdout",
     "output_type": "stream",
     "text": [
      "Cohens Kappa 0.755747126437\n"
     ]
    }
   ],
   "source": [
    "print(\"Cohens Kappa\",sklearn.metrics.cohen_kappa_score(y_test,predicted))"
   ]
  },
  {
   "cell_type": "markdown",
   "metadata": {},
   "source": [
    "### Evaluation of Boomerangs with A lumped with C"
   ]
  },
  {
   "cell_type": "code",
   "execution_count": 490,
   "metadata": {
    "collapsed": true
   },
   "outputs": [],
   "source": [
    "# Replace C to A\n",
    "y_res[y_res=='A'] = 'C'"
   ]
  },
  {
   "cell_type": "code",
   "execution_count": 491,
   "metadata": {},
   "outputs": [
    {
     "name": "stdout",
     "output_type": "stream",
     "text": [
      "             precision    recall  f1-score   support\n",
      "\n",
      "          C       1.00      0.95      0.97        39\n",
      "          P       0.88      1.00      0.93        14\n",
      "\n",
      "avg / total       0.97      0.96      0.96        53\n",
      "\n"
     ]
    },
    {
     "data": {
      "text/plain": [
       "array([[37,  2],\n",
       "       [ 0, 14]])"
      ]
     },
     "execution_count": 491,
     "metadata": {},
     "output_type": "execute_result"
    }
   ],
   "source": [
    "X_train, X_test, y_train, y_test = train_test_split(X_res, y_res, test_size=0.10, random_state=42)\n",
    "\n",
    "forest = RandomForestClassifier(n_estimators=20)\n",
    "\n",
    "forest.fit(X_train,y_train)\n",
    "print(classification_report(y_test, forest.predict(X_test)))\n",
    "predicted =  forest.predict(X_test)\n",
    "confusion_matrix(y_test,predicted)\n"
   ]
  },
  {
   "cell_type": "code",
   "execution_count": 492,
   "metadata": {},
   "outputs": [
    {
     "name": "stdout",
     "output_type": "stream",
     "text": [
      "Cohens Kappa 0.907180385289\n"
     ]
    }
   ],
   "source": [
    "print(\"Cohens Kappa\",sklearn.metrics.cohen_kappa_score(y_test,predicted))"
   ]
  },
  {
   "cell_type": "markdown",
   "metadata": {},
   "source": [
    "## Evaluation of Boomerangs with A lumped with P"
   ]
  },
  {
   "cell_type": "code",
   "execution_count": 442,
   "metadata": {
    "collapsed": true
   },
   "outputs": [],
   "source": [
    "y_res = temp_y"
   ]
  },
  {
   "cell_type": "code",
   "execution_count": 358,
   "metadata": {
    "collapsed": true
   },
   "outputs": [],
   "source": [
    "# Replace C to A\n",
    "y_res[y_res=='A'] = 'P'"
   ]
  },
  {
   "cell_type": "code",
   "execution_count": 440,
   "metadata": {},
   "outputs": [
    {
     "name": "stdout",
     "output_type": "stream",
     "text": [
      "             precision    recall  f1-score   support\n",
      "\n",
      "          C       0.87      0.83      0.85        24\n",
      "          P       0.87      0.90      0.88        29\n",
      "\n",
      "avg / total       0.87      0.87      0.87        53\n",
      "\n"
     ]
    },
    {
     "data": {
      "text/plain": [
       "array([[20,  4],\n",
       "       [ 3, 26]])"
      ]
     },
     "execution_count": 440,
     "metadata": {},
     "output_type": "execute_result"
    }
   ],
   "source": [
    "X_train, X_test, y_train, y_test = train_test_split(X_res, y_res, test_size=0.10, random_state=42)\n",
    "\n",
    "forest = RandomForestClassifier(n_estimators=20)\n",
    "\n",
    "forest.fit(X_train,y_train)\n",
    "print(classification_report(y_test, forest.predict(X_test)))\n",
    "predicted =  forest.predict(X_test)\n",
    "confusion_matrix(y_test,predicted)\n"
   ]
  },
  {
   "cell_type": "code",
   "execution_count": 441,
   "metadata": {},
   "outputs": [
    {
     "name": "stdout",
     "output_type": "stream",
     "text": [
      "Cohens Kappa 0.732516222062\n"
     ]
    }
   ],
   "source": [
    "print(\"Cohens Kappa\",sklearn.metrics.cohen_kappa_score(y_test,predicted))"
   ]
  },
  {
   "cell_type": "markdown",
   "metadata": {},
   "source": [
    "## Comparision of Values"
   ]
  },
  {
   "cell_type": "markdown",
   "metadata": {},
   "source": [
    "| Method | Three Classes | A lumped with C | A Lumped with P|\n",
    "| ------ | --------------|-----------------|----------------|\n",
    "| Time Distance old |  0.82 | 0.85 | Not reported|\n",
    "| Raw Audio | 0.712 | 0.826 |0.7406 |\n",
    "| Boomerangs Sox | 0.75 | 0.9071 | 0.7325|"
   ]
  }
 ],
 "metadata": {
  "kernelspec": {
   "display_name": "Python 3",
   "language": "python",
   "name": "python3"
  },
  "language_info": {
   "codemirror_mode": {
    "name": "ipython",
    "version": 3
   },
   "file_extension": ".py",
   "mimetype": "text/x-python",
   "name": "python",
   "nbconvert_exporter": "python",
   "pygments_lexer": "ipython3",
   "version": "3.6.0"
  }
 },
 "nbformat": 4,
 "nbformat_minor": 2
}
